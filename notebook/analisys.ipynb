{
 "cells": [
  {
   "cell_type": "code",
   "execution_count": 49,
   "metadata": {},
   "outputs": [],
   "source": [
    "import os\n",
    "import sys\n",
    "import csv                                                      \n",
    "import networkx as nx\n",
    "from operator import itemgetter\n",
    "import community\n",
    "import matplotlib.pyplot as plt\n",
    "import numpy as np"
   ]
  },
  {
   "cell_type": "code",
   "execution_count": 50,
   "metadata": {},
   "outputs": [],
   "source": [
    "module_path = os.path.abspath(os.path.join('..'))\n",
    "src_path = '{}/src'.format(module_path)\n",
    "if module_path not in sys.path:\n",
    "    sys.path.append(src_path)\n",
    "\n",
    "c_elegans_undir_names_path = '{}/data/c_elegans_undir_names.txt'.format(module_path)\n",
    "c_elegans_undir_path = '{}/data/c_elegans_undir.net'.format(module_path)"
   ]
  },
  {
   "cell_type": "markdown",
   "metadata": {},
   "source": [
    "Leitura do arquivo c_elegans_undir_names"
   ]
  },
  {
   "cell_type": "code",
   "execution_count": 51,
   "metadata": {},
   "outputs": [
    {
     "name": "stdout",
     "output_type": "stream",
     "text": [
      "{'0': 'ADAL', '1': 'ADAR', '2': 'ADEL', '3': 'ADER', '4': 'ADFL', '5': 'ADFR', '6': 'ADLL', '7': 'ADLR', '8': 'AFDL', '9': 'AFDR', '10': 'AIAL', '11': 'AIAR', '12': 'AIBL', '13': 'AIBR', '14': 'AIML', '15': 'AIMR', '16': 'AINL', '17': 'AINR', '18': 'AIYL', '19': 'AIYR', '20': 'AIZL', '21': 'AIZR', '22': 'ALA', '23': 'ALML', '24': 'ALMR', '25': 'ALNL', '26': 'ALNR', '27': 'AQR', '28': 'AS01', '29': 'AS10', '30': 'AS11', '31': 'AS02', '32': 'AS03', '33': 'AS04', '34': 'AS05', '35': 'AS06', '36': 'AS07', '37': 'AS08', '38': 'AS09', '39': 'ASEL', '40': 'ASER', '41': 'ASGL', '42': 'ASGR', '43': 'ASHL', '44': 'ASHR', '45': 'ASIL', '46': 'ASIR', '47': 'ASJL', '48': 'ASJR', '49': 'ASKL', '50': 'ASKR', '51': 'AUAL', '52': 'AUAR', '53': 'AVAL', '54': 'AVAR', '55': 'AVBL', '56': 'AVBR', '57': 'AVDL', '58': 'AVDR', '59': 'AVEL', '60': 'AVER', '61': 'AVFL', '62': 'AVFR', '63': 'AVG', '64': 'AVHL', '65': 'AVHR', '66': 'AVJL', '67': 'AVJR', '68': 'AVKL', '69': 'AVKR', '70': 'AVL', '71': 'AVM', '72': 'AWAL', '73': 'AWAR', '74': 'AWBL', '75': 'AWBR', '76': 'AWCL', '77': 'AWCR', '78': 'BAGL', '79': 'BAGR', '80': 'BDUL', '81': 'BDUR', '82': 'CEPDL', '83': 'CEPDR', '84': 'CEPVL', '85': 'CEPVR', '86': 'DA01', '87': 'DA02', '88': 'DA03', '89': 'DA04', '90': 'DA05', '91': 'DA06', '92': 'DA07', '93': 'DA08', '94': 'DA09', '95': 'DB01', '96': 'DB02', '97': 'DB03', '98': 'DB04', '99': 'DB05', '100': 'DB06', '101': 'DB07', '102': 'DD01', '103': 'DD02', '104': 'DD03', '105': 'DD04', '106': 'DD05', '107': 'DD06', '108': 'DVA', '109': 'DVB', '110': 'DVC', '111': 'FLPL', '112': 'FLPR', '113': 'HSNL', '114': 'HSNR', '115': 'IL1DL', '116': 'IL1DR', '117': 'IL1L', '118': 'IL1R', '119': 'IL1VL', '120': 'IL1VR', '121': 'IL2DL', '122': 'IL2DR', '123': 'IL2L', '124': 'IL2R', '125': 'IL2VL', '126': 'IL2VR', '127': 'LUAL', '128': 'LUAR', '129': 'OLLL', '130': 'OLLR', '131': 'OLQDL', '132': 'OLQDR', '133': 'OLQVL', '134': 'OLQVR', '135': 'PDA', '136': 'PDB', '137': 'PDEL', '138': 'PDER', '139': 'PHAL', '140': 'PHAR', '141': 'PHBL', '142': 'PHBR', '143': 'PHCL', '144': 'PHCR', '145': 'PLML', '146': 'PLMR', '147': 'PLNL', '148': 'PLNR', '149': 'PQR', '150': 'PVCL', '151': 'PVCR', '152': 'PVDL', '153': 'PVDR', '154': 'PVM', '155': 'PVNL', '156': 'PVNR', '157': 'PVPL', '158': 'PVPR', '159': 'PVQL', '160': 'PVQR', '161': 'PVR', '162': 'PVT', '163': 'PVWL', '164': 'PVWR', '165': 'RIAL', '166': 'RIAR', '167': 'RIBL', '168': 'RIBR', '169': 'RICL', '170': 'RICR', '171': 'RID', '172': 'RIFL', '173': 'RIFR', '174': 'RIGL', '175': 'RIGR', '176': 'RIH', '177': 'RIML', '178': 'RIMR', '179': 'RIPL', '180': 'RIPR', '181': 'RIR', '182': 'RIS', '183': 'RIVL', '184': 'RIVR', '185': 'RMDDL', '186': 'RMDDR', '187': 'RMDL', '188': 'RMDR', '189': 'RMDVL', '190': 'RMDVR', '191': 'RMED', '192': 'RMEL', '193': 'RMER', '194': 'RMEV', '195': 'RMFL', '196': 'RMFR', '197': 'RMGL', '198': 'RMGR', '199': 'RMHL', '200': 'RMHR', '201': 'SAADL', '202': 'SAADR', '203': 'SAAVL', '204': 'SAAVR', '205': 'SABD', '206': 'SABVL', '207': 'SABVR', '208': 'SDQL', '209': 'SDQR', '210': 'SIADL', '211': 'SIADR', '212': 'SIAVL', '213': 'SIAVR', '214': 'SIBDL', '215': 'SIBDR', '216': 'SIBVL', '217': 'SIBVR', '218': 'SMBDL', '219': 'SMBDR', '220': 'SMBVL', '221': 'SMBVR', '222': 'SMDDL', '223': 'SMDDR', '224': 'SMDVL', '225': 'SMDVR', '226': 'URADL', '227': 'URADR', '228': 'URAVL', '229': 'URAVR', '230': 'URBL', '231': 'URBR', '232': 'URXL', '233': 'URXR', '234': 'URYDL', '235': 'URYDR', '236': 'URYVL', '237': 'URYVR', '238': 'VA01', '239': 'VA10', '240': 'VA11', '241': 'VA12', '242': 'VA02', '243': 'VA03', '244': 'VA04', '245': 'VA05', '246': 'VA06', '247': 'VA07', '248': 'VA08', '249': 'VA09', '250': 'VB01', '251': 'VB10', '252': 'VB11', '253': 'VB02', '254': 'VB03', '255': 'VB04', '256': 'VB05', '257': 'VB06', '258': 'VB07', '259': 'VB08', '260': 'VB09', '261': 'VC01', '262': 'VC02', '263': 'VC03', '264': 'VC04', '265': 'VC05', '266': 'VD01', '267': 'VD10', '268': 'VD11', '269': 'VD12', '270': 'VD13', '271': 'VD02', '272': 'VD03', '273': 'VD04', '274': 'VD05', '275': 'VD06', '276': 'VD07', '277': 'VD08', '278': 'VD09'}\n"
     ]
    }
   ],
   "source": [
    "with open(c_elegans_undir_names_path, 'r') as celenamenet:\n",
    "    nodereader = celenamenet.read()\n",
    "    nodes = { n.split(' ')[0]: n.split(' ')[1] for n in nodereader.split('\\n')[:-1] }\n",
    "    node_names = [ nodes[n] for n in nodes ]\n",
    "    print(nodes)"
   ]
  },
  {
   "cell_type": "markdown",
   "metadata": {},
   "source": [
    "Leitura do arquivo c_elegans_undir"
   ]
  },
  {
   "cell_type": "code",
   "execution_count": 52,
   "metadata": {},
   "outputs": [
    {
     "name": "stdout",
     "output_type": "stream",
     "text": [
      "[('ADAL', 'ADAR'), ('ADAL', 'ADEL'), ('ADAL', 'ADFL'), ('ADAL', 'AIAL'), ('ADAL', 'AIBL'), ('ADAL', 'AIBR'), ('ADAL', 'ASHL'), ('ADAL', 'AVAR'), ('ADAL', 'AVBL'), ('ADAL', 'AVBR'), ('ADAL', 'AVDL'), ('ADAL', 'AVDR'), ('ADAL', 'AVEL'), ('ADAL', 'AVJR'), ('ADAL', 'AWAL'), ('ADAL', 'FLPR'), ('ADAL', 'PVPL'), ('ADAL', 'PVQL'), ('ADAL', 'PVR'), ('ADAL', 'RICL'), ('ADAL', 'RICR'), ('ADAL', 'RIML'), ('ADAL', 'RIPL'), ('ADAL', 'RMGL'), ('ADAL', 'SMDVR'), ('ADAR', 'ADER'), ('ADAR', 'ADFR'), ('ADAR', 'AIAR'), ('ADAR', 'AIBL'), ('ADAR', 'AIBR'), ('ADAR', 'ASHR'), ('ADAR', 'AVAL'), ('ADAR', 'AVBL'), ('ADAR', 'AVBR'), ('ADAR', 'AVDL'), ('ADAR', 'AVEL'), ('ADAR', 'AVJL'), ('ADAR', 'PVQR'), ('ADAR', 'RICL'), ('ADAR', 'RICR'), ('ADAR', 'RIMR'), ('ADAR', 'RIPR'), ('ADAR', 'RIVR'), ('ADAR', 'RMGR'), ('ADAR', 'SMDVL'), ('ADAR', 'URBR'), ('ADEL', 'ADER'), ('ADEL', 'AINL'), ('ADEL', 'ALA'), ('ADEL', 'AVAL'), ('ADEL', 'AVAR'), ('ADEL', 'AVEL'), ('ADEL', 'AVKR'), ('ADEL', 'AVL'), ('ADEL', 'BDUL'), ('ADEL', 'CEPDL'), ('ADEL', 'FLPL'), ('ADEL', 'IL1L'), ('ADEL', 'IL2L'), ('ADEL', 'OLLL'), ('ADEL', 'RIAL'), ('ADEL', 'RIFL'), ('ADEL', 'RIGL'), ('ADEL', 'RIGR'), ('ADEL', 'RIH'), ('ADEL', 'RIVL'), ('ADEL', 'RIVR'), ('ADEL', 'RMDL'), ('ADEL', 'RMGL'), ('ADEL', 'RMHL'), ('ADEL', 'SIADR'), ('ADEL', 'SIBDR'), ('ADEL', 'SMBDR'), ('ADEL', 'URBL'), ('ADER', 'ALA'), ('ADER', 'ALNR'), ('ADER', 'AVAL'), ('ADER', 'AVAR'), ('ADER', 'AVDR'), ('ADER', 'AVER'), ('ADER', 'AVJR'), ('ADER', 'AVKL'), ('ADER', 'AVKR'), ('ADER', 'AVM'), ('ADER', 'BDUR'), ('ADER', 'CEPDR'), ('ADER', 'FLPL'), ('ADER', 'FLPR'), ('ADER', 'IL2R'), ('ADER', 'OLLR'), ('ADER', 'PVR'), ('ADER', 'RIGL'), ('ADER', 'RIGR'), ('ADER', 'RIH'), ('ADER', 'RMDR'), ('ADER', 'SAAVR'), ('ADFL', 'AIZL'), ('ADFL', 'ASHL'), ('ADFL', 'AUAL'), ('ADFL', 'AWBL'), ('ADFL', 'OLQVL'), ('ADFL', 'RIAL'), ('ADFL', 'RIGL'), ('ADFL', 'RIR'), ('ADFL', 'SMBVL'), ('ADFR', 'AIAR'), ('ADFR', 'AIYR'), ('ADFR', 'AIZR'), ('ADFR', 'ASEL'), ('ADFR', 'ASHR'), ('ADFR', 'AUAR'), ('ADFR', 'AVHL'), ('ADFR', 'AWAR'), ('ADFR', 'AWBR'), ('ADFR', 'PVPR'), ('ADFR', 'RIAR'), ('ADFR', 'RIGR'), ('ADFR', 'RIH'), ('ADFR', 'RIR'), ('ADFR', 'SMBDR'), ('ADFR', 'SMBVR'), ('ADFR', 'URXR'), ('ADLL', 'ADLR'), ('ADLL', 'AIAL'), ('ADLL', 'AIBL'), ('ADLL', 'AIBR'), ('ADLL', 'ALA'), ('ADLL', 'ASER'), ('ADLL', 'ASHL'), ('ADLL', 'AVAL'), ('ADLL', 'AVAR'), ('ADLL', 'AVBL'), ('ADLL', 'AVDL'), ('ADLL', 'AVDR'), ('ADLL', 'AVHR'), ('ADLL', 'AVJL'), ('ADLL', 'AVJR'), ('ADLL', 'AWBL'), ('ADLL', 'CEPVL'), ('ADLL', 'OLQVL'), ('ADLL', 'RIPL'), ('ADLL', 'RMGL'), ('ADLL', 'SDQR'), ('ADLR', 'AIAR'), ('ADLR', 'AIBR'), ('ADLR', 'ASER'), ('ADLR', 'ASHR'), ('ADLR', 'AVAR'), ('ADLR', 'AVBL'), ('ADLR', 'AVBR'), ('ADLR', 'AVDL'), ('ADLR', 'AVDR'), ('ADLR', 'AVHR'), ('ADLR', 'AVJR'), ('ADLR', 'AWCR'), ('ADLR', 'OLLR'), ('ADLR', 'PVCL'), ('ADLR', 'RICL'), ('ADLR', 'RICR'), ('AFDL', 'AFDR'), ('AFDL', 'AIBL'), ('AFDL', 'AINR'), ('AFDL', 'AIYL'), ('AFDL', 'ASER'), ('AFDL', 'AWAL'), ('AFDR', 'AIBR'), ('AFDR', 'AINL'), ('AFDR', 'AINR'), ('AFDR', 'AIYR'), ('AFDR', 'ASER'), ('AFDR', 'AWAR'), ('AFDR', 'RIR'), ('AIAL', 'AIAR'), ('AIAL', 'AIBL'), ('AIAL', 'AIML'), ('AIAL', 'AINR'), ('AIAL', 'AIZL'), ('AIAL', 'ASEL'), ('AIAL', 'ASER'), ('AIAL', 'ASGL'), ('AIAL', 'ASHL'), ('AIAL', 'ASIL'), ('AIAL', 'ASIR'), ('AIAL', 'ASKL'), ('AIAL', 'AWAL'), ('AIAL', 'AWCL'), ('AIAL', 'AWCR'), ('AIAL', 'HSNL'), ('AIAL', 'PVQL'), ('AIAL', 'RIFL'), ('AIAL', 'RMGL'), ('AIAR', 'AIBR'), ('AIAR', 'AIMR'), ('AIAR', 'AIZR'), ('AIAR', 'ASER'), ('AIAR', 'ASGR'), ('AIAR', 'ASHR'), ('AIAR', 'ASIR'), ('AIAR', 'ASKR'), ('AIAR', 'AWAR'), ('AIAR', 'AWCL'), ('AIAR', 'AWCR'), ('AIAR', 'PVQR'), ('AIAR', 'RIFR'), ('AIBL', 'AINR'), ('AIBL', 'AIYL'), ('AIBL', 'AIZL'), ('AIBL', 'AIZR'), ('AIBL', 'ASEL'), ('AIBL', 'ASER'), ('AIBL', 'ASGL'), ('AIBL', 'ASHL'), ('AIBL', 'ASIL'), ('AIBL', 'ASKL'), ('AIBL', 'AVAL'), ('AIBL', 'AVBL'), ('AIBL', 'AWCL'), ('AIBL', 'BAGL'), ('AIBL', 'DVC'), ('AIBL', 'FLPL'), ('AIBL', 'HSNR'), ('AIBL', 'PVT'), ('AIBL', 'RIBR'), ('AIBL', 'RIFL'), ('AIBL', 'RIGR'), ('AIBL', 'RIML'), ('AIBL', 'RIMR'), ('AIBL', 'RIVL'), ('AIBL', 'SAADL'), ('AIBL', 'SAADR'), ('AIBL', 'SAAVL'), ('AIBL', 'SDQR'), ('AIBL', 'SMDDR'), ('AIBR', 'AIZL'), ('AIBR', 'AIZR'), ('AIBR', 'ASEL'), ('AIBR', 'ASER'), ('AIBR', 'ASGR'), ('AIBR', 'ASHR'), ('AIBR', 'ASIR'), ('AIBR', 'AVAR'), ('AIBR', 'AVBR'), ('AIBR', 'AVEL'), ('AIBR', 'AWBL'), ('AIBR', 'AWCL'), ('AIBR', 'AWCR'), ('AIBR', 'DB01'), ('AIBR', 'DVC'), ('AIBR', 'FLPL'), ('AIBR', 'FLPR'), ('AIBR', 'HSNR'), ('AIBR', 'PVT'), ('AIBR', 'RIAL'), ('AIBR', 'RIBL'), ('AIBR', 'RIGL'), ('AIBR', 'RIML'), ('AIBR', 'RIMR'), ('AIBR', 'RIS'), ('AIBR', 'RIVR'), ('AIBR', 'RMGL'), ('AIBR', 'SAADL'), ('AIBR', 'SAADR'), ('AIBR', 'SDQL'), ('AIBR', 'SMDDL'), ('AIBR', 'SMDVL'), ('AIBR', 'VB01'), ('AIML', 'ALML'), ('AIML', 'ASGL'), ('AIML', 'ASKL'), ('AIML', 'AVBR'), ('AIML', 'AVDL'), ('AIML', 'AVDR'), ('AIML', 'AVER'), ('AIML', 'AVFL'), ('AIML', 'AVFR'), ('AIML', 'AVHL'), ('AIML', 'AVHR'), ('AIML', 'AVJL'), ('AIML', 'PVQL'), ('AIML', 'RIFL'), ('AIML', 'SIBDR'), ('AIML', 'SMBVL'), ('AIMR', 'ASGR'), ('AIMR', 'ASJR'), ('AIMR', 'ASKR'), ('AIMR', 'AVDR'), ('AIMR', 'AVFL'), ('AIMR', 'AVFR'), ('AIMR', 'HSNL'), ('AIMR', 'HSNR'), ('AIMR', 'OLQDR'), ('AIMR', 'PVNR'), ('AIMR', 'RIFR'), ('AIMR', 'RMGR'), ('AINL', 'AINR'), ('AINL', 'ASEL'), ('AINL', 'ASGR'), ('AINL', 'AUAR'), ('AINL', 'BAGL'), ('AINL', 'RIBL'), ('AINL', 'RIBR'), ('AINR', 'ASEL'), ('AINR', 'ASER'), ('AINR', 'ASGL'), ('AINR', 'AUAL'), ('AINR', 'AUAR'), ('AINR', 'BAGR'), ('AINR', 'RIBL'), ('AINR', 'RID'), ('AIYL', 'AIYR'), ('AIYL', 'AIZL'), ('AIYL', 'ASEL'), ('AIYL', 'ASER'), ('AIYL', 'ASIL'), ('AIYL', 'AWAL'), ('AIYL', 'AWCL'), ('AIYL', 'AWCR'), ('AIYL', 'BAGR'), ('AIYL', 'HSNR'), ('AIYL', 'RIAL'), ('AIYL', 'RIBL'), ('AIYL', 'RIML'), ('AIYR', 'AIZR'), ('AIYR', 'ASEL'), ('AIYR', 'ASER'), ('AIYR', 'ASGR'), ('AIYR', 'AUAR'), ('AIYR', 'AWAR'), ('AIYR', 'AWCR'), ('AIYR', 'HSNL'), ('AIYR', 'RIAR'), ('AIYR', 'RIBR'), ('AIYR', 'RIMR'), ('AIZL', 'AIZR'), ('AIZL', 'ASEL'), ('AIZL', 'ASGL'), ('AIZL', 'ASHL'), ('AIZL', 'ASIL'), ('AIZL', 'AVER'), ('AIZL', 'AWAL'), ('AIZL', 'AWBL'), ('AIZL', 'DVA'), ('AIZL', 'HSNL'), ('AIZL', 'HSNR'), ('AIZL', 'RIAL'), ('AIZL', 'RIGL'), ('AIZL', 'RIH'), ('AIZL', 'RIML'), ('AIZL', 'RIR'), ('AIZL', 'SMBDL'), ('AIZL', 'SMBVL'), ('AIZL', 'VB02'), ('AIZR', 'ASGR'), ('AIZR', 'ASHR'), ('AIZR', 'AVEL'), ('AIZR', 'AVER'), ('AIZR', 'AWAR'), ('AIZR', 'AWBR'), ('AIZR', 'DVA'), ('AIZR', 'HSNL'), ('AIZR', 'HSNR'), ('AIZR', 'RIAR'), ('AIZR', 'RIBR'), ('AIZR', 'RIGL'), ('AIZR', 'RIH'), ('AIZR', 'RIMR'), ('AIZR', 'RIR'), ('AIZR', 'SMBDR'), ('AIZR', 'SMBVR'), ('AIZR', 'SMDDR'), ('ALA', 'AVAL'), ('ALA', 'AVEL'), ('ALA', 'AVER'), ('ALA', 'RID'), ('ALA', 'RMDR'), ('ALML', 'AVDR'), ('ALML', 'AVEL'), ('ALML', 'AVM'), ('ALML', 'BDUL'), ('ALML', 'CEPDL'), ('ALML', 'CEPVL'), ('ALML', 'PVCL'), ('ALML', 'PVCR'), ('ALML', 'PVR'), ('ALML', 'RIFL'), ('ALML', 'RMDDR'), ('ALML', 'RMGL'), ('ALML', 'SDQL'), ('ALMR', 'AVM'), ('ALMR', 'BDUR'), ('ALMR', 'CEPDR'), ('ALMR', 'CEPVR'), ('ALMR', 'PVCR'), ('ALMR', 'RMDDL'), ('ALMR', 'SIADL'), ('ALNL', 'RIGL'), ('ALNL', 'RMGL'), ('ALNL', 'SAAVL'), ('ALNL', 'SMBDR'), ('ALNL', 'SMDVL'), ('ALNR', 'RIGR'), ('ALNR', 'RMGR'), ('ALNR', 'RMHR'), ('ALNR', 'SAAVR'), ('ALNR', 'SMBDL'), ('ALNR', 'SMDDR'), ('ALNR', 'SMDVL'), ('AQR', 'AVAL'), ('AQR', 'AVAR'), ('AQR', 'AVBL'), ('AQR', 'AVBR'), ('AQR', 'AVDL'), ('AQR', 'AVDR'), ('AQR', 'AVHR'), ('AQR', 'AVJL'), ('AQR', 'AVKL'), ('AQR', 'AVKR'), ('AQR', 'BAGL'), ('AQR', 'BAGR'), ('AQR', 'DVA'), ('AQR', 'PVCR'), ('AQR', 'PVPL'), ('AQR', 'PVPR'), ('AQR', 'RIAL'), ('AQR', 'RIAR'), ('AQR', 'RIGL'), ('AQR', 'RIGR'), ('AQR', 'URXL'), ('AS01', 'AVAL'), ('AS01', 'AVAR'), ('AS01', 'AVBR'), ('AS01', 'AVDL'), ('AS01', 'AVEL'), ('AS01', 'AVER'), ('AS01', 'DA01'), ('AS01', 'DB01'), ('AS01', 'PVCL'), ('AS01', 'VA03'), ('AS01', 'VD01'), ('AS01', 'VD02'), ('AS10', 'AVAL'), ('AS10', 'AVAR'), ('AS10', 'AVBL'), ('AS10', 'AVBR'), ('AS10', 'AVDL'), ('AS10', 'AVDR'), ('AS11', 'AVAL'), ('AS11', 'AVAR'), ('AS11', 'AVDL'), ('AS11', 'PDA'), ('AS11', 'PDB'), ('AS11', 'VA12'), ('AS11', 'VD13'), ('AS02', 'AVAL'), ('AS02', 'AVAR'), ('AS02', 'AVER'), ('AS02', 'DA02'), ('AS02', 'DB01'), ('AS02', 'DD01'), ('AS02', 'PVCR'), ('AS02', 'RID'), ('AS02', 'VA04'), ('AS02', 'VD02'), ('AS03', 'AVAL'), ('AS03', 'AVAR'), ('AS03', 'AVBL'), ('AS03', 'AVBR'), ('AS03', 'AVER'), ('AS03', 'DA02'), ('AS03', 'DA03'), ('AS03', 'DB01'), ('AS03', 'DD01'), ('AS03', 'VA05'), ('AS03', 'VD02'), ('AS03', 'VD03'), ('AS04', 'AS05'), ('AS04', 'AVAL'), ('AS04', 'AVAR'), ('AS04', 'AVBL'), ('AS04', 'AVBR'), ('AS04', 'AVDL'), ('AS04', 'DA03'), ('AS04', 'DB03'), ('AS04', 'VD04'), ('AS05', 'AVAL'), ('AS05', 'AVAR'), ('AS05', 'AVBL'), ('AS05', 'AVBR'), ('AS05', 'AVDL'), ('AS05', 'AVDR'), ('AS05', 'DB03'), ('AS05', 'DD02'), ('AS05', 'HSNR'), ('AS05', 'VA07'), ('AS05', 'VD05'), ('AS06', 'AVAL'), ('AS06', 'AVAR'), ('AS06', 'AVBL'), ('AS06', 'AVBR'), ('AS06', 'DA05'), ('AS06', 'PLMR'), ('AS06', 'PVR'), ('AS06', 'VA08'), ('AS06', 'VD06'), ('AS07', 'AVAL'), ('AS07', 'AVAR'), ('AS07', 'AVBL'), ('AS07', 'AVBR'), ('AS08', 'AVAL'), ('AS08', 'AVAR'), ('AS09', 'AVAL'), ('AS09', 'AVAR'), ('AS09', 'AVBL'), ('AS09', 'DVB'), ('ASEL', 'ASIR'), ('ASEL', 'AWAL'), ('ASEL', 'AWAR'), ('ASEL', 'AWCL'), ('ASEL', 'AWCR'), ('ASEL', 'RIAR'), ('ASER', 'ASIL'), ('ASER', 'AWAR'), ('ASER', 'AWCL'), ('ASER', 'AWCR'), ('ASER', 'PVQR'), ('ASGL', 'ASKL'), ('ASGL', 'AWAL'), ('ASGR', 'AWBR'), ('ASGR', 'AWCR'), ('ASGR', 'CEPVR'), ('ASHL', 'ASHR'), ('ASHL', 'ASKL'), ('ASHL', 'AVAL'), ('ASHL', 'AVBL'), ('ASHL', 'AVDL'), ('ASHL', 'AVDR'), ('ASHL', 'HSNL'), ('ASHL', 'HSNR'), ('ASHL', 'RIAL'), ('ASHL', 'RICL'), ('ASHL', 'RIML'), ('ASHL', 'RIPL'), ('ASHL', 'RMGL'), ('ASHL', 'URXL'), ('ASHR', 'ASIR'), ('ASHR', 'ASKR'), ('ASHR', 'AVAR'), ('ASHR', 'AVBR'), ('ASHR', 'AVDL'), ('ASHR', 'AVDR'), ('ASHR', 'AVER'), ('ASHR', 'AWBR'), ('ASHR', 'HSNL'), ('ASHR', 'HSNR'), ('ASHR', 'PVPR'), ('ASHR', 'RIAR'), ('ASHR', 'RICR'), ('ASHR', 'RIFR'), ('ASHR', 'RMGR'), ('ASIL', 'ASIR'), ('ASIL', 'ASKL'), ('ASIL', 'AWCL'), ('ASIL', 'AWCR'), ('ASIL', 'RIBL'), ('ASIR', 'AWCL'), ('ASIR', 'AWCR'), ('ASJL', 'ASJR'), ('ASJL', 'ASKL'), ('ASJL', 'AVFR'), ('ASJL', 'HSNL'), ('ASJL', 'HSNR'), ('ASJL', 'PVQL'), ('ASJR', 'ASKR'), ('ASJR', 'HSNL'), ('ASJR', 'HSNR'), ('ASJR', 'PVQR'), ('ASKL', 'ASKR'), ('ASKL', 'AVFR'), ('ASKL', 'HSNL'), ('ASKL', 'PVQL'), ('ASKL', 'RMGL'), ('ASKR', 'AWAR'), ('ASKR', 'CEPVR'), ('ASKR', 'PVQR'), ('ASKR', 'RIFR'), ('ASKR', 'RMGR'), ('AUAL', 'AUAR'), ('AUAL', 'AVAL'), ('AUAL', 'AVDR'), ('AUAL', 'AVEL'), ('AUAL', 'AWBL'), ('AUAL', 'DVA'), ('AUAL', 'IL2DL'), ('AUAL', 'RIAL'), ('AUAL', 'RIBL'), ('AUAL', 'RIR'), ('AUAL', 'URXL'), ('AUAR', 'AVAR'), ('AUAR', 'AVER'), ('AUAR', 'AWAR'), ('AUAR', 'AWBR'), ('AUAR', 'DVA'), ('AUAR', 'RIAR'), ('AUAR', 'RIBR'), ('AUAR', 'RIH'), ('AUAR', 'URXR'), ('AVAL', 'AVAR'), ('AVAL', 'AVBL'), ('AVAL', 'AVBR'), ('AVAL', 'AVDL'), ('AVAL', 'AVDR'), ('AVAL', 'AVEL'), ('AVAL', 'AVER'), ('AVAL', 'AVHL'), ('AVAL', 'AVJL'), ('AVAL', 'AVJR'), ('AVAL', 'AWCL'), ('AVAL', 'BAGR'), ('AVAL', 'BDUR'), ('AVAL', 'DA01'), ('AVAL', 'DA02'), ('AVAL', 'DA03'), ('AVAL', 'DA04'), ('AVAL', 'DA05'), ('AVAL', 'DA06'), ('AVAL', 'DA07'), ('AVAL', 'DA08'), ('AVAL', 'DA09'), ('AVAL', 'DB05'), ('AVAL', 'DB06'), ('AVAL', 'DVA'), ('AVAL', 'DVC'), ('AVAL', 'FLPL'), ('AVAL', 'FLPR'), ('AVAL', 'LUAL'), ('AVAL', 'LUAR'), ('AVAL', 'PHBL'), ('AVAL', 'PHBR'), ('AVAL', 'PHCL'), ('AVAL', 'PLMR'), ('AVAL', 'PQR'), ('AVAL', 'PVCL'), ('AVAL', 'PVCR'), ('AVAL', 'PVDL'), ('AVAL', 'PVDR'), ('AVAL', 'PVNL'), ('AVAL', 'PVNR'), ('AVAL', 'PVPL'), ('AVAL', 'PVPR'), ('AVAL', 'RIBL'), ('AVAL', 'RICL'), ('AVAL', 'RICR'), ('AVAL', 'RIML'), ('AVAL', 'RIMR'), ('AVAL', 'RMGL'), ('AVAL', 'SAADL'), ('AVAL', 'SAAVL'), ('AVAL', 'SABD'), ('AVAL', 'SABVR'), ('AVAL', 'SDQL'), ('AVAL', 'SDQR'), ('AVAL', 'SMBDR'), ('AVAL', 'URYDL'), ('AVAL', 'URYVR'), ('AVAL', 'VA01'), ('AVAL', 'VA10'), ('AVAL', 'VA11'), ('AVAL', 'VA12'), ('AVAL', 'VA02'), ('AVAL', 'VA03'), ('AVAL', 'VA04'), ('AVAL', 'VA05'), ('AVAL', 'VA06'), ('AVAL', 'VA07'), ('AVAL', 'VA08'), ('AVAL', 'VA09'), ('AVAL', 'VB09'), ('AVAL', 'VD06'), ('AVAR', 'AVBL'), ('AVAR', 'AVBR'), ('AVAR', 'AVDL'), ('AVAR', 'AVDR'), ('AVAR', 'AVEL'), ('AVAR', 'AVER'), ('AVAR', 'AVG'), ('AVAR', 'AVJL'), ('AVAR', 'AVJR'), ('AVAR', 'BAGL'), ('AVAR', 'DA01'), ('AVAR', 'DA02'), ('AVAR', 'DA03'), ('AVAR', 'DA04'), ('AVAR', 'DA05'), ('AVAR', 'DA06'), ('AVAR', 'DA07'), ('AVAR', 'DA08'), ('AVAR', 'DA09'), ('AVAR', 'DB03'), ('AVAR', 'DB05'), ('AVAR', 'DB06'), ('AVAR', 'DVA'), ('AVAR', 'DVC'), ('AVAR', 'FLPL'), ('AVAR', 'FLPR'), ('AVAR', 'LUAL'), ('AVAR', 'LUAR'), ('AVAR', 'PDEL'), ('AVAR', 'PDER'), ('AVAR', 'PHBL'), ('AVAR', 'PHBR'), ('AVAR', 'PLMR'), ('AVAR', 'PQR'), ('AVAR', 'PVCL'), ('AVAR', 'PVCR'), ('AVAR', 'PVDL'), ('AVAR', 'PVDR'), ('AVAR', 'PVPL'), ('AVAR', 'PVPR'), ('AVAR', 'PVWR'), ('AVAR', 'RIBR'), ('AVAR', 'RICL'), ('AVAR', 'RICR'), ('AVAR', 'RIGL'), ('AVAR', 'RIML'), ('AVAR', 'RIMR'), ('AVAR', 'RMGR'), ('AVAR', 'SAADR'), ('AVAR', 'SAAVR'), ('AVAR', 'SABD'), ('AVAR', 'SABVL'), ('AVAR', 'SABVR'), ('AVAR', 'SDQL'), ('AVAR', 'SMBDL'), ('AVAR', 'URYDR'), ('AVAR', 'URYVL'), ('AVAR', 'VA10'), ('AVAR', 'VA11'), ('AVAR', 'VA12'), ('AVAR', 'VA02'), ('AVAR', 'VA03'), ('AVAR', 'VA04'), ('AVAR', 'VA05'), ('AVAR', 'VA06'), ('AVAR', 'VA07'), ('AVAR', 'VA08'), ('AVAR', 'VA09'), ('AVAR', 'VB09'), ('AVAR', 'VD11'), ('AVAR', 'VD13'), ('AVAR', 'VD05'), ('AVBL', 'AVBR'), ('AVBL', 'AVDL'), ('AVBL', 'AVDR'), ('AVBL', 'AVEL'), ('AVBL', 'AVER'), ('AVBL', 'AVFL'), ('AVBL', 'AVFR'), ('AVBL', 'AVG'), ('AVBL', 'AVHL'), ('AVBL', 'AVHR'), ('AVBL', 'AVJL'), ('AVBL', 'AVJR'), ('AVBL', 'AVKL'), ('AVBL', 'AVL'), ('AVBL', 'AVM'), ('AVBL', 'AWBL'), ('AVBL', 'DB03'), ('AVBL', 'DB04'), ('AVBL', 'DB05'), ('AVBL', 'DB06'), ('AVBL', 'DB07'), ('AVBL', 'DVA'), ('AVBL', 'DVC'), ('AVBL', 'FLPL'), ('AVBL', 'FLPR'), ('AVBL', 'PVCL'), ('AVBL', 'PVCR'), ('AVBL', 'PVNR'), ('AVBL', 'PVPL'), ('AVBL', 'PVPR'), ('AVBL', 'PVQR'), ('AVBL', 'PVR'), ('AVBL', 'RIBL'), ('AVBL', 'RIBR'), ('AVBL', 'RID'), ('AVBL', 'RIFL'), ('AVBL', 'RIFR'), ('AVBL', 'RIML'), ('AVBL', 'RIMR'), ('AVBL', 'SDQR'), ('AVBL', 'SIBVL'), ('AVBL', 'URBL'), ('AVBL', 'URXL'), ('AVBL', 'URXR'), ('AVBL', 'VA10'), ('AVBL', 'VA02'), ('AVBL', 'VA07'), ('AVBL', 'VB01'), ('AVBL', 'VB10'), ('AVBL', 'VB11'), ('AVBL', 'VB02'), ('AVBL', 'VB04'), ('AVBL', 'VB05'), ('AVBL', 'VB06'), ('AVBL', 'VB07'), ('AVBL', 'VB08'), ('AVBL', 'VB09'), ('AVBL', 'VC03'), ('AVBL', 'VC04'), ('AVBR', 'AVFL'), ('AVBR', 'AVFR'), ('AVBR', 'AVG'), ('AVBR', 'AVHL'), ('AVBR', 'AVHR'), ('AVBR', 'AVJL'), ('AVBR', 'AVJR'), ('AVBR', 'AVM'), ('AVBR', 'AWBR'), ('AVBR', 'DA05'), ('AVBR', 'DB01'), ('AVBR', 'DB02'), ('AVBR', 'DB03'), ('AVBR', 'DB04'), ('AVBR', 'DB05'), ('AVBR', 'DB06'), ('AVBR', 'DB07'), ('AVBR', 'DD01'), ('AVBR', 'DVA'), ('AVBR', 'FLPL'), ('AVBR', 'FLPR'), ('AVBR', 'HSNR'), ('AVBR', 'PVCL'), ('AVBR', 'PVCR'), ('AVBR', 'PVNL'), ('AVBR', 'PVNR'), ('AVBR', 'PVPL'), ('AVBR', 'PVPR'), ('AVBR', 'PVR'), ('AVBR', 'RIBL'), ('AVBR', 'RIBR'), ('AVBR', 'RID'), ('AVBR', 'RIFL'), ('AVBR', 'RIFR'), ('AVBR', 'RIML'), ('AVBR', 'RIMR'), ('AVBR', 'RMGL'), ('AVBR', 'RMGR'), ('AVBR', 'SDQR'), ('AVBR', 'SIBVL'), ('AVBR', 'URBR'), ('AVBR', 'URXR'), ('AVBR', 'URYVL'), ('AVBR', 'VA04'), ('AVBR', 'VA08'), ('AVBR', 'VA09'), ('AVBR', 'VB10'), ('AVBR', 'VB11'), ('AVBR', 'VB02'), ('AVBR', 'VB03'), ('AVBR', 'VB04'), ('AVBR', 'VB06'), ('AVBR', 'VB07'), ('AVBR', 'VB08'), ('AVBR', 'VB09'), ('AVBR', 'VD10'), ('AVBR', 'VD03'), ('AVDL', 'AVDR'), ('AVDL', 'AVHL'), ('AVDL', 'AVJL'), ('AVDL', 'AVJR'), ('AVDL', 'AVM'), ('AVDL', 'DA01'), ('AVDL', 'DA02'), ('AVDL', 'DA03'), ('AVDL', 'DA04'), ('AVDL', 'DA05'), ('AVDL', 'DA08'), ('AVDL', 'FLPL'), ('AVDL', 'FLPR'), ('AVDL', 'LUAL'), ('AVDL', 'LUAR'), ('AVDL', 'PHBL'), ('AVDL', 'PHBR'), ('AVDL', 'PLMR'), ('AVDL', 'PQR'), ('AVDL', 'PVCL'), ('AVDL', 'PVCR'), ('AVDL', 'PVNL'), ('AVDL', 'RMGR'), ('AVDL', 'SABD'), ('AVDL', 'SABVL'), ('AVDL', 'SABVR'), ('AVDL', 'VA04'), ('AVDL', 'VA05'), ('AVDR', 'AVER'), ('AVDR', 'AVG'), ('AVDR', 'AVHR'), ('AVDR', 'AVJL'), ('AVDR', 'AVJR'), ('AVDR', 'DA01'), ('AVDR', 'DA02'), ('AVDR', 'DA03'), ('AVDR', 'DA04'), ('AVDR', 'DA05'), ('AVDR', 'DA08'), ('AVDR', 'DA09'), ('AVDR', 'DB04'), ('AVDR', 'DVC'), ('AVDR', 'FLPL'), ('AVDR', 'FLPR'), ('AVDR', 'HSNL'), ('AVDR', 'HSNR'), ('AVDR', 'LUAL'), ('AVDR', 'LUAR'), ('AVDR', 'PHAL'), ('AVDR', 'PHBR'), ('AVDR', 'PLMR'), ('AVDR', 'PQR'), ('AVDR', 'PVCL'), ('AVDR', 'PVCR'), ('AVDR', 'PVNL'), ('AVDR', 'PVNR'), ('AVDR', 'PVPL'), ('AVDR', 'PVWR'), ('AVDR', 'RIBL'), ('AVDR', 'SABD'), ('AVDR', 'SABVL'), ('AVDR', 'SABVR'), ('AVDR', 'VA11'), ('AVDR', 'VA02'), ('AVDR', 'VA03'), ('AVDR', 'VA06'), ('AVEL', 'AVER'), ('AVEL', 'AVG'), ('AVEL', 'AVJL'), ('AVEL', 'AVKL'), ('AVEL', 'AVL'), ('AVEL', 'BAGL'), ('AVEL', 'BAGR'), ('AVEL', 'CEPDR'), ('AVEL', 'CEPVR'), ('AVEL', 'DA01'), ('AVEL', 'DA02'), ('AVEL', 'DA03'), ('AVEL', 'DA04'), ('AVEL', 'DVA'), ('AVEL', 'FLPR'), ('AVEL', 'IL1R'), ('AVEL', 'IL2L'), ('AVEL', 'OLLR'), ('AVEL', 'PVCL'), ('AVEL', 'PVCR'), ('AVEL', 'PVNL'), ('AVEL', 'PVNR'), ('AVEL', 'PVT'), ('AVEL', 'RIBL'), ('AVEL', 'RIBR'), ('AVEL', 'RIGL'), ('AVEL', 'RIML'), ('AVEL', 'RIMR'), ('AVEL', 'RIS'), ('AVEL', 'RMDVR'), ('AVEL', 'RMEV'), ('AVEL', 'RMGL'), ('AVEL', 'SABD'), ('AVEL', 'SABVL'), ('AVEL', 'SABVR'), ('AVEL', 'SDQL'), ('AVEL', 'URXL'), ('AVEL', 'URYDR'), ('AVEL', 'URYVR'), ('AVEL', 'VA01'), ('AVEL', 'VA03'), ('AVEL', 'VD02'), ('AVEL', 'VD03'), ('AVER', 'AVG'), ('AVER', 'AVJR'), ('AVER', 'AVKL'), ('AVER', 'BAGL'), ('AVER', 'CEPDL'), ('AVER', 'CEPVL'), ('AVER', 'DA01'), ('AVER', 'DA02'), ('AVER', 'DA03'), ('AVER', 'DB03'), ('AVER', 'DVA'), ('AVER', 'FLPR'), ('AVER', 'IL1L'), ('AVER', 'IL1R'), ('AVER', 'OLLL'), ('AVER', 'PVCL'), ('AVER', 'PVCR'), ('AVER', 'PVPL'), ('AVER', 'RIBL'), ('AVER', 'RIBR'), ('AVER', 'RIGL'), ('AVER', 'RIGR'), ('AVER', 'RIML'), ('AVER', 'RIMR'), ('AVER', 'RIS'), ('AVER', 'RMDVL'), ('AVER', 'RMDVR'), ('AVER', 'RMEV'), ('AVER', 'RMGR'), ('AVER', 'SABD'), ('AVER', 'SABVL'), ('AVER', 'SABVR'), ('AVER', 'URXR'), ('AVER', 'URYDL'), ('AVER', 'URYDR'), ('AVER', 'URYVL'), ('AVER', 'VA01'), ('AVER', 'VA02'), ('AVER', 'VA03'), ('AVER', 'VA04'), ('AVER', 'VA05'), ('AVFL', 'AVFR'), ('AVFL', 'AVG'), ('AVFL', 'AVHL'), ('AVFL', 'AVHR'), ('AVFL', 'AVJL'), ('AVFL', 'AVJR'), ('AVFL', 'AVL'), ('AVFL', 'HSNL'), ('AVFL', 'HSNR'), ('AVFL', 'PDER'), ('AVFL', 'PHAL'), ('AVFL', 'PHBR'), ('AVFL', 'PVNL'), ('AVFL', 'PVQL'), ('AVFL', 'PVQR'), ('AVFL', 'RIFR'), ('AVFL', 'VB01'), ('AVFL', 'VC05'), ('AVFR', 'AVHL'), ('AVFR', 'AVHR'), ('AVFR', 'AVJL'), ('AVFR', 'AVJR'), ('AVFR', 'AVL'), ('AVFR', 'HSNR'), ('AVFR', 'PVNL'), ('AVFR', 'PVQL'), ('AVFR', 'PVQR'), ('AVFR', 'VC04'), ('AVFR', 'VC05'), ('AVFR', 'VD11'), ('AVG', 'AVJL'), ('AVG', 'AVL'), ('AVG', 'DA08'), ('AVG', 'PHAL'), ('AVG', 'PHAR'), ('AVG', 'PQR'), ('AVG', 'PVCL'), ('AVG', 'PVNL'), ('AVG', 'PVNR'), ('AVG', 'PVPR'), ('AVG', 'PVQR'), ('AVG', 'PVT'), ('AVG', 'RIFL'), ('AVG', 'RIFR'), ('AVG', 'VA11'), ('AVHL', 'AVHR'), ('AVHL', 'AVJL'), ('AVHL', 'AWBR'), ('AVHL', 'BDUL'), ('AVHL', 'BDUR'), ('AVHL', 'PHAL'), ('AVHL', 'PHBR'), ('AVHL', 'PVPR'), ('AVHL', 'PVQL'), ('AVHL', 'PVQR'), ('AVHL', 'RIFR'), ('AVHL', 'RIMR'), ('AVHL', 'RIR'), ('AVHL', 'SMBDR'), ('AVHL', 'SMBVR'), ('AVHL', 'VD01'), ('AVHR', 'AVJR'), ('AVHR', 'PHAL'), ('AVHR', 'PHAR'), ('AVHR', 'PHCR'), ('AVHR', 'PVNL'), ('AVHR', 'PVPL'), ('AVHR', 'RIFL'), ('AVHR', 'RIGL'), ('AVHR', 'RIR'), ('AVHR', 'SMBDL'), ('AVHR', 'SMBVL'), ('AVHR', 'VC04'), ('AVJL', 'AVJR'), ('AVJL', 'BDUR'), ('AVJL', 'HSNL'), ('AVJL', 'HSNR'), ('AVJL', 'LUAL'), ('AVJL', 'PLMR'), ('AVJL', 'PVCL'), ('AVJL', 'PVCR'), ('AVJL', 'PVNL'), ('AVJL', 'PVNR'), ('AVJL', 'PVR'), ('AVJL', 'PVWL'), ('AVJL', 'RIFR'), ('AVJL', 'RIMR'), ('AVJL', 'RIS'), ('AVJL', 'RMGR'), ('AVJR', 'AVM'), ('AVJR', 'BDUL'), ('AVJR', 'FLPR'), ('AVJR', 'LUAR'), ('AVJR', 'PVCL'), ('AVJR', 'PVCR'), ('AVJR', 'PVNL'), ('AVJR', 'PVNR'), ('AVJR', 'PVQR'), ('AVJR', 'PVR'), ('AVJR', 'RIFL'), ('AVJR', 'RIFR'), ('AVJR', 'SABVL'), ('AVJR', 'URXL'), ('AVKL', 'AVKR'), ('AVKL', 'AVM'), ('AVKL', 'DVA'), ('AVKL', 'DVC'), ('AVKL', 'PDEL'), ('AVKL', 'PDER'), ('AVKL', 'PVM'), ('AVKL', 'PVPL'), ('AVKL', 'PVPR'), ('AVKL', 'PVR'), ('AVKL', 'PVT'), ('AVKL', 'RICL'), ('AVKL', 'RICR'), ('AVKL', 'RIGL'), ('AVKL', 'RIGR'), ('AVKL', 'RIML'), ('AVKL', 'RIMR'), ('AVKL', 'RIS'), ('AVKL', 'RMDR'), ('AVKL', 'RMFL'), ('AVKL', 'RMFR'), ('AVKL', 'SAADR'), ('AVKL', 'SIAVR'), ('AVKL', 'SMBDL'), ('AVKL', 'SMBDR'), ('AVKL', 'SMBVR'), ('AVKL', 'SMDDR'), ('AVKL', 'VB01'), ('AVKL', 'VB10'), ('AVKR', 'BDUL'), ('AVKR', 'DVC'), ('AVKR', 'PVPL'), ('AVKR', 'PVQL'), ('AVKR', 'PVT'), ('AVKR', 'RICL'), ('AVKR', 'RIGL'), ('AVKR', 'RIGR'), ('AVKR', 'RIML'), ('AVKR', 'RIMR'), ('AVKR', 'RIS'), ('AVKR', 'RMDR'), ('AVKR', 'RMFL'), ('AVKR', 'RMFR'), ('AVKR', 'SAADL'), ('AVKR', 'SMBDL'), ('AVKR', 'SMBDR'), ('AVKR', 'SMBVR'), ('AVKR', 'SMDDL'), ('AVKR', 'SMDDR'), ('AVL', 'DA02'), ('AVL', 'DD01'), ('AVL', 'DD06'), ('AVL', 'DVB'), ('AVL', 'DVC'), ('AVL', 'HSNR'), ('AVL', 'PVCR'), ('AVL', 'PVM'), ('AVL', 'PVNL'), ('AVL', 'PVNR'), ('AVL', 'PVPR'), ('AVL', 'PVQR'), ('AVL', 'PVT'), ('AVL', 'PVWL'), ('AVL', 'RIS'), ('AVL', 'SABD'), ('AVL', 'SABVL'), ('AVL', 'SABVR'), ('AVL', 'VC01'), ('AVL', 'VC03'), ('AVL', 'VD12'), ('AVM', 'BDUL'), ('AVM', 'BDUR'), ('AVM', 'DA01'), ('AVM', 'PVCL'), ('AVM', 'PVCR'), ('AVM', 'PVM'), ('AVM', 'PVNL'), ('AVM', 'PVR'), ('AVM', 'RID'), ('AVM', 'SIBVL'), ('AVM', 'VA01'), ('AWAL', 'AWAR'), ('AWAL', 'AWBL'), ('AWAR', 'AWBR'), ('AWAR', 'PVQR'), ('AWAR', 'RIFR'), ('AWAR', 'RIGR'), ('AWAR', 'RIR'), ('AWBL', 'AWBR'), ('AWBL', 'HSNL'), ('AWBL', 'HSNR'), ('AWBL', 'RIAL'), ('AWBL', 'RMGL'), ('AWBL', 'SMBDL'), ('AWBR', 'HSNL'), ('AWBR', 'RIAR'), ('AWBR', 'RICL'), ('AWBR', 'RIR'), ('AWBR', 'RMGR'), ('AWBR', 'SMBVR'), ('AWCL', 'AWCR'), ('AWCL', 'RIAL'), ('BAGL', 'BAGR'), ('BAGL', 'RIAR'), ('BAGL', 'RIBL'), ('BAGL', 'RIBR'), ('BAGL', 'RIGL'), ('BAGL', 'RIGR'), ('BAGL', 'RIR'), ('BAGR', 'IL2VL'), ('BAGR', 'RIAL'), ('BAGR', 'RIBL'), ('BAGR', 'RIGL'), ('BAGR', 'RIH'), ('BAGR', 'RIR'), ('BDUL', 'HSNL'), ('BDUL', 'PVNL'), ('BDUL', 'PVNR'), ('BDUL', 'SAADL'), ('BDUL', 'URADL'), ('BDUR', 'CEPDR'), ('BDUR', 'HSNR'), ('BDUR', 'PVCL'), ('BDUR', 'PVNL'), ('BDUR', 'PVNR'), ('BDUR', 'SDQL'), ('BDUR', 'URADR'), ('CEPDL', 'IL1DL'), ('CEPDL', 'OLLL'), ('CEPDL', 'OLQDL'), ('CEPDL', 'RIBL'), ('CEPDL', 'RICL'), ('CEPDL', 'RICR'), ('CEPDL', 'RIH'), ('CEPDL', 'RIPL'), ('CEPDL', 'RIS'), ('CEPDL', 'RMDVL'), ('CEPDL', 'RMGL'), ('CEPDL', 'RMHR'), ('CEPDL', 'SIADR'), ('CEPDL', 'SMBDR'), ('CEPDL', 'URADL'), ('CEPDL', 'URBL'), ('CEPDL', 'URYDL'), ('CEPDR', 'IL1DR'), ('CEPDR', 'IL1R'), ('CEPDR', 'IL2DR'), ('CEPDR', 'OLLR'), ('CEPDR', 'OLQDR'), ('CEPDR', 'RIBR'), ('CEPDR', 'RICL'), ('CEPDR', 'RICR'), ('CEPDR', 'RIH'), ('CEPDR', 'RIS'), ('CEPDR', 'RMDDL'), ('CEPDR', 'RMDVR'), ('CEPDR', 'RMGR'), ('CEPDR', 'RMHL'), ('CEPDR', 'RMHR'), ('CEPDR', 'SIADL'), ('CEPDR', 'SMBDR'), ('CEPDR', 'URADR'), ('CEPDR', 'URBR'), ('CEPDR', 'URYDR'), ('CEPVL', 'IL1VL'), ('CEPVL', 'OLLL'), ('CEPVL', 'OLQVL'), ('CEPVL', 'RIAL'), ('CEPVL', 'RICL'), ('CEPVL', 'RICR'), ('CEPVL', 'RIH'), ('CEPVL', 'RIPL'), ('CEPVL', 'RIS'), ('CEPVL', 'RMDDL'), ('CEPVL', 'RMHL'), ('CEPVL', 'SIAVL'), ('CEPVL', 'URAVL'), ('CEPVR', 'IL1VR'), ('CEPVR', 'IL2VR'), ('CEPVR', 'OLLR'), ('CEPVR', 'OLQVR'), ('CEPVR', 'RIAR'), ('CEPVR', 'RICL'), ('CEPVR', 'RICR'), ('CEPVR', 'RIH'), ('CEPVR', 'RIPR'), ('CEPVR', 'RIS'), ('CEPVR', 'RIVL'), ('CEPVR', 'RMDDR'), ('CEPVR', 'RMHR'), ('CEPVR', 'SIAVR'), ('CEPVR', 'URAVR'), ('DA01', 'DA04'), ('DA01', 'DD01'), ('DA01', 'SABVL'), ('DA01', 'SABVR'), ('DA01', 'VD01'), ('DA01', 'VD02'), ('DA02', 'DD01'), ('DA02', 'PVCL'), ('DA02', 'SABVL'), ('DA02', 'VA01'), ('DA02', 'VD01'), ('DA02', 'VD02'), ('DA02', 'VD03'), ('DA03', 'DA04'), ('DA03', 'DB02'), ('DA03', 'DB03'), ('DA03', 'DD02'), ('DA03', 'VD03'), ('DA03', 'VD04'), ('DA04', 'DB03'), ('DA04', 'DD02'), ('DA04', 'VB06'), ('DA04', 'VD04'), ('DA04', 'VD05'), ('DA05', 'DB04'), ('DA05', 'HSNR'), ('DA05', 'PVCL'), ('DA05', 'VA04'), ('DA05', 'VA05'), ('DA05', 'VD05'), ('DA05', 'VD06'), ('DA06', 'HSNR'), ('DA06', 'PVCL'), ('DA06', 'RID'), ('DA06', 'VD04'), ('DA06', 'VD05'), ('DA06', 'VD06'), ('DA08', 'DA09'), ('DA08', 'DVB'), ('DA08', 'PHAR'), ('DA08', 'PHBR'), ('DA08', 'VA12'), ('DA09', 'DD06'), ('DA09', 'PDA'), ('DA09', 'PHCL'), ('DA09', 'PHCR'), ('DA09', 'PVCR'), ('DA09', 'PVR'), ('DA09', 'RID'), ('DA09', 'VA12'), ('DA09', 'VD13'), ('DB01', 'DB02'), ('DB01', 'DB04'), ('DB01', 'DD01'), ('DB01', 'DVA'), ('DB01', 'RID'), ('DB01', 'RIS'), ('DB01', 'VB03'), ('DB01', 'VB04'), ('DB01', 'VD01'), ('DB01', 'VD02'), ('DB01', 'VD03'), ('DB02', 'DB03'), ('DB02', 'DD02'), ('DB02', 'DVA'), ('DB02', 'PVCL'), ('DB02', 'PVCR'), ('DB02', 'PVR'), ('DB02', 'VB01'), ('DB02', 'VD03'), ('DB02', 'VD04'), ('DB02', 'VD05'), ('DB03', 'DB04'), ('DB03', 'DD02'), ('DB03', 'DD03'), ('DB03', 'DVA'), ('DB03', 'PVCL'), ('DB03', 'PVCR'), ('DB03', 'PVR'), ('DB03', 'VD04'), ('DB03', 'VD05'), ('DB03', 'VD06'), ('DB04', 'DD03'), ('DB04', 'DVA'), ('DB04', 'PVCL'), ('DB04', 'PVCR'), ('DB04', 'VB02'), ('DB04', 'VB04'), ('DB04', 'VC02'), ('DB04', 'VD06'), ('DB05', 'DVA'), ('DB05', 'PVCL'), ('DB05', 'PVCR'), ('DB06', 'DVA'), ('DB06', 'PVCL'), ('DB06', 'PVCR'), ('DB07', 'DVA'), ('DB07', 'PVCL'), ('DB07', 'PVCR'), ('DB07', 'VA12'), ('DB07', 'VD13'), ('DD01', 'DD02'), ('DD01', 'PVNL'), ('DD01', 'PVQR'), ('DD01', 'RID'), ('DD01', 'VA01'), ('DD01', 'VA02'), ('DD01', 'VA03'), ('DD01', 'VB01'), ('DD01', 'VB02'), ('DD01', 'VC01'), ('DD01', 'VC02'), ('DD01', 'VC03'), ('DD01', 'VD01'), ('DD01', 'VD02'), ('DD02', 'DD03'), ('DD02', 'PVPR'), ('DD02', 'RID'), ('DD02', 'VA03'), ('DD02', 'VA04'), ('DD02', 'VA05'), ('DD02', 'VB02'), ('DD02', 'VB03'), ('DD02', 'VB04'), ('DD02', 'VC01'), ('DD02', 'VC02'), ('DD02', 'VC03'), ('DD02', 'VD03'), ('DD02', 'VD04'), ('DD03', 'DD04'), ('DD03', 'PVNR'), ('DD03', 'RID'), ('DD03', 'VA05'), ('DD03', 'VA06'), ('DD03', 'VA07'), ('DD03', 'VB04'), ('DD03', 'VB05'), ('DD03', 'VC01'), ('DD03', 'VC02'), ('DD03', 'VC03'), ('DD04', 'VA07'), ('DD04', 'VA08'), ('DD04', 'VA09'), ('DD04', 'VB06'), ('DD04', 'VB07'), ('DD04', 'VC03'), ('DD04', 'VD08'), ('DD05', 'PVDL'), ('DD05', 'VA09'), ('DD05', 'VB08'), ('DD05', 'VB09'), ('DD05', 'VD10'), ('DD05', 'VD09'), ('DD06', 'DVB'), ('DD06', 'PDA'), ('DD06', 'VA11'), ('DD06', 'VA12'), ('DD06', 'VB10'), ('DD06', 'VB11'), ('DVA', 'FLPL'), ('DVA', 'FLPR'), ('DVA', 'PDEL'), ('DVA', 'PDER'), ('DVA', 'PHAL'), ('DVA', 'PHAR'), ('DVA', 'PHCL'), ('DVA', 'PHCR'), ('DVA', 'PLMR'), ('DVA', 'PVCL'), ('DVA', 'PVCR'), ('DVA', 'PVDR'), ('DVA', 'PVM'), ('DVA', 'PVR'), ('DVA', 'RIAL'), ('DVA', 'RIAR'), ('DVA', 'RIMR'), ('DVA', 'RIR'), ('DVA', 'SAADR'), ('DVA', 'SAAVL'), ('DVA', 'SAAVR'), ('DVA', 'SABD'), ('DVA', 'SDQR'), ('DVA', 'SMBDL'), ('DVA', 'SMBDR'), ('DVA', 'SMBVL'), ('DVA', 'SMBVR'), ('DVA', 'VA12'), ('DVA', 'VA02'), ('DVA', 'VB01'), ('DVA', 'VB11'), ('DVB', 'DVC'), ('DVB', 'PDA'), ('DVB', 'PHCL'), ('DVB', 'PVPL'), ('DVB', 'VA09'), ('DVB', 'VB09'), ('DVC', 'PVPL'), ('DVC', 'PVPR'), ('DVC', 'PVQR'), ('DVC', 'PVT'), ('DVC', 'RIBL'), ('DVC', 'RIBR'), ('DVC', 'RIGL'), ('DVC', 'RIGR'), ('DVC', 'RMFL'), ('DVC', 'RMFR'), ('DVC', 'VA09'), ('DVC', 'VC01'), ('DVC', 'VC02'), ('DVC', 'VC03'), ('DVC', 'VC05'), ('DVC', 'VD01'), ('DVC', 'VD10'), ('FLPL', 'FLPR'), ('FLPL', 'PVCR'), ('FLPL', 'RIH'), ('FLPL', 'SDQL'), ('FLPR', 'PVCL'), ('FLPR', 'VB01'), ('HSNL', 'HSNR'), ('HSNL', 'PLML'), ('HSNL', 'PVQL'), ('HSNL', 'RIFL'), ('HSNL', 'RIML'), ('HSNL', 'RIR'), ('HSNL', 'SABVL'), ('HSNL', 'VC05'), ('HSNR', 'PLMR'), ('HSNR', 'PVNR'), ('HSNR', 'PVQR'), ('HSNR', 'RIFR'), ('HSNR', 'RMGR'), ('HSNR', 'SABD'), ('HSNR', 'SABVR'), ('HSNR', 'VA06'), ('HSNR', 'VC02'), ('HSNR', 'VC03'), ('HSNR', 'VD04'), ('IL1DL', 'IL1DR'), ('IL1DL', 'IL1L'), ('IL1DL', 'IL2DL'), ('IL1DL', 'OLLL'), ('IL1DL', 'PVR'), ('IL1DL', 'RIH'), ('IL1DL', 'RIPL'), ('IL1DL', 'RMDDR'), ('IL1DL', 'RMDVL'), ('IL1DL', 'RMEV'), ('IL1DL', 'URADL'), ('IL1DL', 'URYDL'), ('IL1DR', 'IL1R'), ('IL1DR', 'IL2DR'), ('IL1DR', 'OLLR'), ('IL1DR', 'PVR'), ('IL1DR', 'RIPR'), ('IL1DR', 'RMDVR'), ('IL1DR', 'RMEV'), ('IL1DR', 'URADR'), ('IL1L', 'IL1VL'), ('IL1L', 'IL2L'), ('IL1L', 'RMDDL'), ('IL1L', 'RMDL'), ('IL1L', 'RMDR'), ('IL1L', 'RMDVL'), ('IL1L', 'RMDVR'), ('IL1L', 'RMER'), ('IL1L', 'URBL'), ('IL1R', 'IL1VR'), ('IL1R', 'IL2R'), ('IL1R', 'RIAR'), ('IL1R', 'RMDDL'), ('IL1R', 'RMDDR'), ('IL1R', 'RMDL'), ('IL1R', 'RMDR'), ('IL1R', 'RMDVL'), ('IL1R', 'RMDVR'), ('IL1R', 'RMEL'), ('IL1R', 'RMHL'), ('IL1R', 'URAVR'), ('IL1R', 'URBR'), ('IL1R', 'URXR'), ('IL1VL', 'IL1VR'), ('IL1VL', 'IL2VL'), ('IL1VL', 'OLLL'), ('IL1VL', 'OLQVL'), ('IL1VL', 'PVR'), ('IL1VL', 'RIPL'), ('IL1VL', 'RMDDL'), ('IL1VL', 'RMED'), ('IL1VL', 'URYVL'), ('IL1VR', 'IL2R'), ('IL1VR', 'IL2VR'), ('IL1VR', 'OLLR'), ('IL1VR', 'OLQVR'), ('IL1VR', 'PVR'), ('IL1VR', 'RIPR'), ('IL1VR', 'RMDDR'), ('IL1VR', 'RMER'), ('IL1VR', 'URYVR'), ('IL2DL', 'OLQDL'), ('IL2DL', 'RIBL'), ('IL2DL', 'RIPL'), ('IL2DL', 'RMEL'), ('IL2DL', 'RMER'), ('IL2DL', 'URADL'), ('IL2DR', 'RICR'), ('IL2DR', 'RIPR'), ('IL2DR', 'RMED'), ('IL2DR', 'RMEL'), ('IL2DR', 'RMER'), ('IL2DR', 'RMEV'), ('IL2DR', 'URADR'), ('IL2L', 'IL2VL'), ('IL2L', 'OLQDL'), ('IL2L', 'OLQVL'), ('IL2L', 'RICL'), ('IL2L', 'RIH'), ('IL2L', 'RMDL'), ('IL2L', 'RMDR'), ('IL2L', 'RMER'), ('IL2L', 'RMEV'), ('IL2L', 'RMGL'), ('IL2L', 'URXL'), ('IL2R', 'OLLR'), ('IL2R', 'OLQDR'), ('IL2R', 'OLQVR'), ('IL2R', 'RIH'), ('IL2R', 'RMDL'), ('IL2R', 'RMEL'), ('IL2R', 'RMEV'), ('IL2R', 'RMGR'), ('IL2R', 'URBR'), ('IL2R', 'URXR'), ('IL2VL', 'OLQVL'), ('IL2VL', 'RIAL'), ('IL2VL', 'RIH'), ('IL2VL', 'RIPL'), ('IL2VL', 'RMEL'), ('IL2VL', 'RMER'), ('IL2VL', 'RMEV'), ('IL2VL', 'URAVL'), ('IL2VR', 'OLQVR'), ('IL2VR', 'RIAR'), ('IL2VR', 'RIH'), ('IL2VR', 'RIPR'), ('IL2VR', 'RMEL'), ('IL2VR', 'RMER'), ('IL2VR', 'RMEV'), ('IL2VR', 'URAVR'), ('IL2VR', 'URXR'), ('LUAL', 'PHBL'), ('LUAL', 'PHCL'), ('LUAL', 'PLML'), ('LUAL', 'PVNL'), ('LUAL', 'PVR'), ('LUAL', 'PVWL'), ('LUAL', 'VA12'), ('LUAR', 'PHCR'), ('LUAR', 'PLMR'), ('LUAR', 'PQR'), ('LUAR', 'PVCR'), ('LUAR', 'PVR'), ('LUAR', 'PVWL'), ('OLLL', 'OLLR'), ('OLLL', 'RIBL'), ('OLLL', 'RIGL'), ('OLLL', 'RMDDL'), ('OLLL', 'RMDL'), ('OLLL', 'RMDVL'), ('OLLL', 'RMEL'), ('OLLL', 'SAADR'), ('OLLL', 'SMDDL'), ('OLLL', 'SMDDR'), ('OLLL', 'SMDVR'), ('OLLL', 'URYDL'), ('OLLR', 'RIBR'), ('OLLR', 'RIGR'), ('OLLR', 'RIS'), ('OLLR', 'RMDDR'), ('OLLR', 'RMDL'), ('OLLR', 'RMDVR'), ('OLLR', 'RMER'), ('OLLR', 'SAAVL'), ('OLLR', 'SMDDR'), ('OLLR', 'SMDVL'), ('OLLR', 'SMDVR'), ('OLLR', 'VC05'), ('OLQDL', 'RIBL'), ('OLQDL', 'RICR'), ('OLQDL', 'RIGL'), ('OLQDL', 'RIH'), ('OLQDL', 'RIPL'), ('OLQDL', 'RIPR'), ('OLQDL', 'RMDDR'), ('OLQDL', 'RMDVL'), ('OLQDL', 'SIBVL'), ('OLQDL', 'URBL'), ('OLQDR', 'RIBR'), ('OLQDR', 'RICL'), ('OLQDR', 'RICR'), ('OLQDR', 'RIGR'), ('OLQDR', 'RIH'), ('OLQDR', 'RIPL'), ('OLQDR', 'RIPR'), ('OLQDR', 'RMDDL'), ('OLQDR', 'RMDVR'), ('OLQDR', 'RMHR'), ('OLQDR', 'SIBVR'), ('OLQDR', 'URBR'), ('OLQVL', 'RIBL'), ('OLQVL', 'RICL'), ('OLQVL', 'RIGL'), ('OLQVL', 'RIH'), ('OLQVL', 'RIPL'), ('OLQVL', 'RMDDL'), ('OLQVL', 'RMDVR'), ('OLQVL', 'SIBDL'), ('OLQVL', 'URBL'), ('OLQVR', 'RIBR'), ('OLQVR', 'RICR'), ('OLQVR', 'RIGR'), ('OLQVR', 'RIH'), ('OLQVR', 'RIPR'), ('OLQVR', 'RMDDR'), ('OLQVR', 'RMDVL'), ('OLQVR', 'RMER'), ('OLQVR', 'SIBDR'), ('OLQVR', 'URBR'), ('OLQVR', 'URXR'), ('PDA', 'PVNR'), ('PDA', 'VD13'), ('PDB', 'RID'), ('PDB', 'VD13'), ('PDEL', 'PDER'), ('PDEL', 'PLMR'), ('PDEL', 'PVCR'), ('PDEL', 'PVM'), ('PDEL', 'PVR'), ('PDEL', 'VA09'), ('PDEL', 'VD11'), ('PDER', 'PLMR'), ('PDER', 'PVCL'), ('PDER', 'PVCR'), ('PDER', 'PVM'), ('PDER', 'PVR'), ('PDER', 'VA08'), ('PDER', 'VD09'), ('PHAL', 'PHAR'), ('PHAL', 'PHBL'), ('PHAL', 'PHBR'), ('PHAL', 'PVQL'), ('PHAR', 'PHBL'), ('PHAR', 'PHBR'), ('PHAR', 'PVPL'), ('PHAR', 'PVQL'), ('PHBL', 'PHBR'), ('PHBL', 'PVCL'), ('PHBL', 'VA12'), ('PHBR', 'PVCL'), ('PHBR', 'PVCR'), ('PHBR', 'VA12'), ('PHCL', 'PHCR'), ('PHCL', 'PLML'), ('PHCL', 'PVCL'), ('PHCL', 'VA12'), ('PHCR', 'PVCR'), ('PHCR', 'VA12'), ('PLML', 'PVCL'), ('PLMR', 'PVCL'), ('PLMR', 'PVCR'), ('PLMR', 'PVR'), ('PLNL', 'SAADL'), ('PLNL', 'SMBVL'), ('PLNR', 'SAADR'), ('PLNR', 'SMBVR'), ('PQR', 'PVNL'), ('PQR', 'PVNR'), ('PQR', 'PVPL'), ('PVCL', 'PVCR'), ('PVCL', 'PVDL'), ('PVCL', 'PVDR'), ('PVCL', 'PVM'), ('PVCL', 'PVNL'), ('PVCL', 'PVNR'), ('PVCL', 'PVPR'), ('PVCL', 'RID'), ('PVCL', 'RIFR'), ('PVCL', 'RIS'), ('PVCL', 'SIBVL'), ('PVCL', 'VA12'), ('PVCL', 'VB10'), ('PVCL', 'VB11'), ('PVCL', 'VB03'), ('PVCL', 'VB04'), ('PVCL', 'VB05'), ('PVCL', 'VB06'), ('PVCL', 'VB08'), ('PVCL', 'VB09'), ('PVCL', 'VD13'), ('PVCR', 'PVDL'), ('PVCR', 'PVDR'), ('PVCR', 'PVPL'), ('PVCR', 'PVPR'), ('PVCR', 'PVR'), ('PVCR', 'PVWL'), ('PVCR', 'PVWR'), ('PVCR', 'RID'), ('PVCR', 'RIFR'), ('PVCR', 'SIBVR'), ('PVCR', 'VA12'), ('PVCR', 'VA08'), ('PVCR', 'VA09'), ('PVCR', 'VB10'), ('PVCR', 'VB11'), ('PVCR', 'VB04'), ('PVCR', 'VB06'), ('PVCR', 'VB07'), ('PVCR', 'VB08'), ('PVCR', 'VC02'), ('PVCR', 'VD13'), ('PVDL', 'PVDR'), ('PVDL', 'VD10'), ('PVDR', 'VA09'), ('PVM', 'PVR'), ('PVNL', 'PVNR'), ('PVNL', 'PVQR'), ('PVNL', 'PVT'), ('PVNL', 'PVWL'), ('PVNL', 'RIFL'), ('PVNR', 'PVT'), ('PVNR', 'PVWL'), ('PVNR', 'VA11'), ('PVNR', 'VC02'), ('PVNR', 'VC03'), ('PVNR', 'VD12'), ('PVNR', 'VD06'), ('PVNR', 'VD07'), ('PVPL', 'PVPR'), ('PVPL', 'PVT'), ('PVPL', 'RIFL'), ('PVPL', 'RIGL'), ('PVPL', 'RIR'), ('PVPL', 'VD13'), ('PVPL', 'VD03'), ('PVPR', 'PVQR'), ('PVPR', 'RIAR'), ('PVPR', 'RIFR'), ('PVPR', 'RIGR'), ('PVPR', 'RIMR'), ('PVPR', 'RMGR'), ('PVPR', 'VC03'), ('PVPR', 'VD04'), ('PVPR', 'VD05'), ('PVQL', 'PVQR'), ('PVQL', 'RMGL'), ('PVQR', 'PVT'), ('PVQR', 'RIFR'), ('PVQR', 'VC02'), ('PVQR', 'VC03'), ('PVQR', 'VD01'), ('PVR', 'RIPL'), ('PVR', 'RIPR'), ('PVR', 'SABD'), ('PVR', 'SMDVL'), ('PVR', 'URADL'), ('PVT', 'PVWL'), ('PVT', 'PVWR'), ('PVT', 'RIBL'), ('PVT', 'RIBR'), ('PVT', 'RIGL'), ('PVT', 'RIGR'), ('PVT', 'RIH'), ('PVT', 'RMEV'), ('PVT', 'RMFL'), ('PVT', 'RMFR'), ('PVT', 'SMBDR'), ('PVT', 'VA09'), ('PVT', 'VB10'), ('PVT', 'VC01'), ('PVT', 'VC02'), ('PVT', 'VC05'), ('PVWL', 'PVWR'), ('PVWL', 'VA12'), ('PVWR', 'VA12'), ('RIAL', 'RIAR'), ('RIAL', 'RIBL'), ('RIAL', 'RIH'), ('RIAL', 'RIR'), ('RIAL', 'RIVL'), ('RIAL', 'RIVR'), ('RIAL', 'RMDDL'), ('RIAL', 'RMDDR'), ('RIAL', 'RMDL'), ('RIAL', 'RMDR'), ('RIAL', 'RMDVL'), ('RIAL', 'RMDVR'), ('RIAL', 'SIADL'), ('RIAL', 'SMDDL'), ('RIAL', 'SMDDR'), ('RIAL', 'SMDVL'), ('RIAL', 'SMDVR'), ('RIAL', 'URXL'), ('RIAL', 'URYVL'), ('RIAR', 'RIBR'), ('RIAR', 'RIH'), ('RIAR', 'RIR'), ('RIAR', 'RIVL'), ('RIAR', 'RIVR'), ('RIAR', 'RMDDL'), ('RIAR', 'RMDDR'), ('RIAR', 'RMDL'), ('RIAR', 'RMDR'), ('RIAR', 'RMDVL'), ('RIAR', 'RMDVR'), ('RIAR', 'SAADR'), ('RIAR', 'SIADL'), ('RIAR', 'SIADR'), ('RIAR', 'SIAVL'), ('RIAR', 'SMDDL'), ('RIAR', 'SMDDR'), ('RIAR', 'SMDVL'), ('RIAR', 'SMDVR'), ('RIAR', 'URXR'), ('RIAR', 'URYVR'), ('RIBL', 'RIBR'), ('RIBL', 'RIGL'), ('RIBL', 'RIH'), ('RIBL', 'RIML'), ('RIBL', 'RIS'), ('RIBL', 'RMED'), ('RIBL', 'SIADL'), ('RIBL', 'SIAVL'), ('RIBL', 'SIBDL'), ('RIBL', 'SIBVL'), ('RIBL', 'SIBVR'), ('RIBL', 'SMBDL'), ('RIBL', 'SMDDL'), ('RIBL', 'SMDVR'), ('RIBL', 'URYDL'), ('RIBL', 'URYVL'), ('RIBR', 'RIGR'), ('RIBR', 'RIH'), ('RIBR', 'RIMR'), ('RIBR', 'RIS'), ('RIBR', 'RMED'), ('RIBR', 'SIADR'), ('RIBR', 'SIAVR'), ('RIBR', 'SIBDR'), ('RIBR', 'SIBVR'), ('RIBR', 'SMBDR'), ('RIBR', 'SMDDL'), ('RIBR', 'SMDDR'), ('RIBR', 'SMDVL'), ('RIBR', 'URYDR'), ('RIBR', 'URYVR'), ('RICL', 'RIML'), ('RICL', 'RIMR'), ('RICL', 'RIVR'), ('RICL', 'RMFR'), ('RICL', 'SMBDL'), ('RICL', 'SMDDL'), ('RICL', 'SMDDR'), ('RICL', 'SMDVR'), ('RICL', 'URXL'), ('RICR', 'SDQL'), ('RICR', 'SDQR'), ('RICR', 'SMBDR'), ('RICR', 'SMDDL'), ('RICR', 'SMDDR'), ('RICR', 'SMDVL'), ('RICR', 'SMDVR'), ('RICR', 'URBL'), ('RICR', 'URBR'), ('RID', 'RMGL'), ('RID', 'VD13'), ('RID', 'VD05'), ('RIFL', 'RIML'), ('RIFL', 'VD01'), ('RIFR', 'RIMR'), ('RIFR', 'RIPR'), ('RIGL', 'RIGR'), ('RIGL', 'RIR'), ('RIGL', 'RMEL'), ('RIGL', 'RMFL'), ('RIGL', 'RMHR'), ('RIGL', 'URXL'), ('RIGL', 'URYDL'), ('RIGL', 'URYVL'), ('RIGL', 'VB02'), ('RIGL', 'VD01'), ('RIGR', 'RIR'), ('RIGR', 'RMFL'), ('RIGR', 'RMHL'), ('RIGR', 'URXR'), ('RIGR', 'URYDR'), ('RIGR', 'URYVR'), ('RIH', 'RIPL'), ('RIH', 'RIPR'), ('RIH', 'RMER'), ('RIH', 'RMEV'), ('RIH', 'URYVL'), ('RIH', 'URYVR'), ('RIML', 'RIS'), ('RIML', 'RMDL'), ('RIML', 'RMDR'), ('RIML', 'RMFR'), ('RIML', 'SAADL'), ('RIML', 'SAADR'), ('RIML', 'SAAVL'), ('RIML', 'SAAVR'), ('RIML', 'SMDDR'), ('RIML', 'SMDVL'), ('RIML', 'VB01'), ('RIMR', 'RIS'), ('RIMR', 'RMDL'), ('RIMR', 'RMDR'), ('RIMR', 'RMFL'), ('RIMR', 'RMFR'), ('RIMR', 'SAADL'), ('RIMR', 'SAADR'), ('RIMR', 'SAAVL'), ('RIMR', 'SAAVR'), ('RIMR', 'SMDDL'), ('RIMR', 'SMDDR'), ('RIPL', 'RMED'), ('RIPL', 'URADL'), ('RIPL', 'URAVL'), ('RIPR', 'RMED'), ('RIPR', 'URADR'), ('RIPR', 'URAVR'), ('RIPR', 'URXR'), ('RIR', 'RMGR'), ('RIR', 'URXL'), ('RIR', 'URXR'), ('RIS', 'RMDDL'), ('RIS', 'RMDL'), ('RIS', 'RMDR'), ('RIS', 'SDQL'), ('RIS', 'SMDDL'), ('RIS', 'SMDDR'), ('RIS', 'SMDVL'), ('RIS', 'SMDVR'), ('RIS', 'URYVL'), ('RIS', 'URYVR'), ('RIVL', 'RIVR'), ('RIVL', 'RMDL'), ('RIVL', 'SAADR'), ('RIVL', 'SDQR'), ('RIVL', 'SIAVR'), ('RIVL', 'SMDDR'), ('RIVL', 'SMDVL'), ('RIVR', 'RMDDL'), ('RIVR', 'RMDR'), ('RIVR', 'RMDVR'), ('RIVR', 'RMEV'), ('RIVR', 'SAADL'), ('RIVR', 'SDQR'), ('RIVR', 'SIAVL'), ('RIVR', 'SMDDL'), ('RIVR', 'SMDVR'), ('RMDDL', 'RMDL'), ('RMDDL', 'RMDR'), ('RMDDL', 'RMDVL'), ('RMDDL', 'RMDVR'), ('RMDDL', 'SMDDL'), ('RMDDL', 'SMDVR'), ('RMDDL', 'URYDR'), ('RMDDL', 'URYVL'), ('RMDDR', 'RMDL'), ('RMDDR', 'RMDVL'), ('RMDDR', 'RMDVR'), ('RMDDR', 'SAADR'), ('RMDDR', 'SMDDR'), ('RMDDR', 'SMDVL'), ('RMDDR', 'URBL'), ('RMDDR', 'URYDL'), ('RMDDR', 'URYVR'), ('RMDL', 'RMDR'), ('RMDL', 'RMDVL'), ('RMDL', 'RMER'), ('RMDL', 'RMFL'), ('RMDL', 'RMFR'), ('RMDL', 'RMGL'), ('RMDL', 'RMGR'), ('RMDL', 'URBR'), ('RMDR', 'RMDVR'), ('RMDR', 'RMFL'), ('RMDR', 'RMGL'), ('RMDR', 'RMGR'), ('RMDR', 'RMHL'), ('RMDR', 'URBR'), ('RMDR', 'URXR'), ('RMDVL', 'RMDVR'), ('RMDVL', 'RMGL'), ('RMDVL', 'SAAVL'), ('RMDVL', 'SMDVL'), ('RMDVL', 'URAVR'), ('RMDVL', 'URYDL'), ('RMDVL', 'URYVR'), ('RMDVR', 'RMGR'), ('RMDVR', 'SAAVR'), ('RMDVR', 'SIBDR'), ('RMDVR', 'SIBVR'), ('RMDVR', 'SMDVR'), ('RMDVR', 'URADR'), ('RMDVR', 'URYDR'), ('RMDVR', 'URYVL'), ('RMED', 'RMEV'), ('RMED', 'SMBDL'), ('RMED', 'SMBDR'), ('RMED', 'URADR'), ('RMEL', 'RMEV'), ('RMEL', 'URADL'), ('RMEL', 'URAVL'), ('RMER', 'RMEV'), ('RMER', 'RMHR'), ('RMER', 'URADR'), ('RMER', 'URAVL'), ('RMER', 'URAVR'), ('RMEV', 'SMBVL'), ('RMEV', 'SMBVR'), ('RMEV', 'SMDDR'), ('RMEV', 'URAVL'), ('RMEV', 'URAVR'), ('RMFL', 'RMGR'), ('RMFL', 'SAADR'), ('RMFL', 'SDQL'), ('RMFL', 'URBR'), ('RMFL', 'VB01'), ('RMFR', 'SAAVL'), ('RMGL', 'RMHL'), ('RMGL', 'RMHR'), ('RMGL', 'SAADR'), ('RMGL', 'SIAVL'), ('RMGL', 'SIBVL'), ('RMGL', 'SIBVR'), ('RMGL', 'SMBVL'), ('RMGL', 'URXL'), ('RMGR', 'RMHR'), ('RMGR', 'SAADL'), ('RMGR', 'URXR'), ('RMHL', 'SDQR'), ('RMHL', 'SIBVR'), ('RMHR', 'SDQR'), ('SAADL', 'SMBDL'), ('SAADL', 'SMBVL'), ('SAADL', 'VB01'), ('SAADR', 'SMBVR'), ('SAADR', 'VB01'), ('SAAVL', 'SMBDR'), ('SAAVL', 'SMBVR'), ('SAAVL', 'SMDDR'), ('SAAVR', 'SMBDL'), ('SAAVR', 'SMBVL'), ('SAAVR', 'SMDDL'), ('SABD', 'VA02'), ('SABD', 'VA03'), ('SABD', 'VA04'), ('SABD', 'VB01'), ('SDQL', 'SDQR'), ('SDQR', 'SIBVL'), ('SIAVL', 'URBL'), ('SIAVR', 'URBR'), ('SIAVR', 'URXR'), ('SIBDL', 'SIBVL'), ('SIBDR', 'SIBVR'), ('SIBDR', 'URYVR'), ('SIBVL', 'URYVR'), ('SIBVR', 'URYVL'), ('SMBDL', 'URBR'), ('SMBDR', 'URBL'), ('SMDDL', 'SMDVR'), ('SMDDL', 'URYDL'), ('SMDDL', 'URYDR'), ('SMDDR', 'SMDVL'), ('SMDDR', 'URYDL'), ('SMDDR', 'VD01'), ('SMDVL', 'SMDVR'), ('SMDVL', 'URYVR'), ('SMDVR', 'URYVL'), ('SMDVR', 'VB01'), ('URADR', 'URYDR'), ('URBL', 'URXL'), ('URBL', 'VC05'), ('URBR', 'URXR'), ('VA01', 'VB01'), ('VA01', 'VD01'), ('VA11', 'VA12'), ('VA11', 'VB10'), ('VA11', 'VD11'), ('VA11', 'VD12'), ('VA12', 'VB11'), ('VA12', 'VD12'), ('VA12', 'VD13'), ('VA02', 'VA03'), ('VA02', 'VB01'), ('VA02', 'VB02'), ('VA02', 'VD01'), ('VA02', 'VD02'), ('VA03', 'VA04'), ('VA03', 'VB01'), ('VA03', 'VD02'), ('VA03', 'VD03'), ('VA04', 'VB03'), ('VA04', 'VD04'), ('VA05', 'VD05'), ('VA06', 'VB05'), ('VA06', 'VD05'), ('VA06', 'VD06'), ('VA07', 'VB03'), ('VA07', 'VD07'), ('VA08', 'VA09'), ('VA08', 'VB06'), ('VA08', 'VB08'), ('VA08', 'VB09'), ('VA08', 'VD07'), ('VA08', 'VD08'), ('VA09', 'VB08'), ('VA09', 'VB09'), ('VA09', 'VD07'), ('VA09', 'VD09'), ('VB01', 'VB02'), ('VB01', 'VD01'), ('VB01', 'VD02'), ('VB10', 'VD11'), ('VB10', 'VD12'), ('VB11', 'VD12'), ('VB02', 'VB03'), ('VB02', 'VB05'), ('VB02', 'VB07'), ('VB02', 'VC02'), ('VB02', 'VD02'), ('VB02', 'VD03'), ('VB04', 'VB05'), ('VB04', 'VD05'), ('VB05', 'VB06'), ('VB05', 'VD06'), ('VB06', 'VB07'), ('VB06', 'VD06'), ('VB06', 'VD07'), ('VB08', 'VB09'), ('VB08', 'VD10'), ('VB08', 'VD09'), ('VB09', 'VD10'), ('VC01', 'VC02'), ('VC01', 'VC03'), ('VC01', 'VC04'), ('VC01', 'VD01'), ('VC01', 'VD02'), ('VC01', 'VD03'), ('VC01', 'VD04'), ('VC01', 'VD05'), ('VC01', 'VD06'), ('VC02', 'VC03'), ('VC02', 'VD01'), ('VC02', 'VD02'), ('VC02', 'VD04'), ('VC02', 'VD05'), ('VC02', 'VD06'), ('VC03', 'VC04'), ('VC03', 'VC05'), ('VC03', 'VD01'), ('VC03', 'VD02'), ('VC03', 'VD03'), ('VC03', 'VD04'), ('VC03', 'VD05'), ('VC03', 'VD06'), ('VC03', 'VD07'), ('VC04', 'VC05'), ('VD01', 'VD02'), ('VD10', 'VD09'), ('VD02', 'VD03'), ('VD03', 'VD04'), ('VD04', 'VD05'), ('VD05', 'VD06'), ('VD06', 'VD07')]\n"
     ]
    }
   ],
   "source": [
    "with open(c_elegans_undir_path, 'r') as celenet:\n",
    "    edgereader = celenet.read()\n",
    "    edges = [tuple([nodes[v] for v in n.split(' ')]) for n in edgereader.split('\\n')[:-1]]\n",
    "    print(edges)"
   ]
  },
  {
   "cell_type": "markdown",
   "metadata": {},
   "source": [
    "Imprime a quantidade de cada um"
   ]
  },
  {
   "cell_type": "code",
   "execution_count": 53,
   "metadata": {},
   "outputs": [
    {
     "name": "stdout",
     "output_type": "stream",
     "text": [
      "279\n",
      "2287\n",
      "Name: \n",
      "Type: Graph\n",
      "Number of nodes: 279\n",
      "Number of edges: 2287\n",
      "Average degree:  16.3943\n",
      "Densidade da rede:  0.05897217709703205\n"
     ]
    }
   ],
   "source": [
    "print(len(node_names))  \n",
    "print(len(edges))                                                                               \n",
    "\n",
    "G = nx.Graph() # inicializando o grafo                                                   \n",
    "G.add_nodes_from(node_names) # cria os nós                           \n",
    "G.add_edges_from(edges) # adiciona as arestas no grafo  \n",
    "print(nx.info(G)) # imprime informações do grafo (resumo)\n",
    "\n",
    "density = nx.density(G)\n",
    "print('Densidade da rede: ', density)\n",
    "\n",
    "#fell_whitehead_path = nx.shortest_path(G, source='ADAL',target='AIYL')\n",
    "#print('Menor caminho entre Fell e Whitehead: ', fell_whitehead_path)"
   ]
  },
  {
   "cell_type": "markdown",
   "metadata": {},
   "source": [
    "Grafo é conexo?"
   ]
  },
  {
   "cell_type": "code",
   "execution_count": 54,
   "metadata": {},
   "outputs": [
    {
     "name": "stdout",
     "output_type": "stream",
     "text": [
      "True\n"
     ]
    }
   ],
   "source": [
    "print(nx.is_connected(G))"
   ]
  },
  {
   "cell_type": "markdown",
   "metadata": {},
   "source": [
    "Obtém os componentes do grafo"
   ]
  },
  {
   "cell_type": "code",
   "execution_count": 55,
   "metadata": {},
   "outputs": [
    {
     "name": "stdout",
     "output_type": "stream",
     "text": [
      "<generator object connected_components at 0x7f6966419318>\n"
     ]
    }
   ],
   "source": [
    "components = nx.connected_components(G)\n",
    "print(components)"
   ]
  },
  {
   "cell_type": "markdown",
   "metadata": {},
   "source": [
    "Obtém o maior componente"
   ]
  },
  {
   "cell_type": "code",
   "execution_count": 56,
   "metadata": {},
   "outputs": [
    {
     "name": "stdout",
     "output_type": "stream",
     "text": [
      "{'AVG', 'HSNR', 'ADLL', 'IL1VL', 'IL1DR', 'SAAVR', 'SAAVL', 'VD05', 'VA05', 'RIBL', 'IL1R', 'ASEL', 'URYDL', 'AVDR', 'AIAR', 'SIBVR', 'OLQVL', 'PLML', 'DA02', 'PQR', 'AVL', 'ASJL', 'AS06', 'SMDVL', 'PVCL', 'BAGR', 'IL2DL', 'AVBL', 'DA06', 'ASGL', 'VA03', 'RIAR', 'URAVR', 'DD06', 'SIAVR', 'DA08', 'SMBDR', 'VC05', 'AQR', 'AWAR', 'DA09', 'DB02', 'ADFL', 'PDA', 'RICL', 'RMED', 'VD09', 'DB05', 'PVDL', 'RIFL', 'URBL', 'ALML', 'VD13', 'AVKL', 'PVPL', 'RIFR', 'RMDDL', 'VC01', 'URXL', 'VA11', 'DB01', 'AVJL', 'VB09', 'BAGL', 'RMFR', 'CEPDL', 'PHBL', 'RMHL', 'RIBR', 'AS07', 'SMBDL', 'OLQVR', 'PHCL', 'VD07', 'SIADL', 'PLMR', 'IL1VR', 'AUAL', 'AVHR', 'PHBR', 'AS09', 'VD03', 'PHAL', 'SIBVL', 'VA07', 'PVQR', 'DVC', 'PVPR', 'AFDL', 'AVDL', 'AIMR', 'URADL', 'ALMR', 'PVQL', 'PDEL', 'SIADR', 'OLQDL', 'AS01', 'AVBR', 'DA04', 'AINR', 'PLNL', 'SMDDL', 'AVHL', 'AS02', 'LUAL', 'FLPL', 'RMER', 'AVAL', 'ADEL', 'ALA', 'ASGR', 'SMBVL', 'DD02', 'VB05', 'CEPDR', 'SAADR', 'AVER', 'DB04', 'AVAR', 'DA07', 'DD03', 'RID', 'VA04', 'RIS', 'IL1DL', 'VD02', 'AIAL', 'RMDDR', 'PLNR', 'DB07', 'AS10', 'VA06', 'ADAR', 'PDER', 'ALNL', 'VD12', 'RICR', 'RIR', 'AWCL', 'AWBL', 'IL2VR', 'AVKR', 'RIVL', 'VB10', 'AVFR', 'PVR', 'VA12', 'IL2VL', 'VC03', 'ADFR', 'AVJR', 'CEPVL', 'AIML', 'VB06', 'VB02', 'RMDVL', 'AWCR', 'VB01', 'AIYR', 'PHCR', 'AFDR', 'CEPVR', 'RMDR', 'SMDDR', 'IL2R', 'PVNR', 'RIML', 'RMEV', 'ASIL', 'VA02', 'RIPR', 'SABVR', 'RIPL', 'SAADL', 'PHAR', 'VB03', 'SIAVL', 'ASHL', 'RMGL', 'AVM', 'DA01', 'SABD', 'RIGR', 'VB04', 'AVFL', 'AWAL', 'OLQDR', 'VD11', 'ASHR', 'PVT', 'VD04', 'OLLL', 'ASER', 'ASKR', 'AS05', 'VC04', 'SIBDL', 'DD04', 'AIZL', 'IL2DR', 'PVWL', 'DA03', 'URYVL', 'DB06', 'AS04', 'VA08', 'PDB', 'RMEL', 'SDQR', 'IL2L', 'URYDR', 'URAVL', 'URBR', 'AINL', 'VD08', 'ADER', 'PVDR', 'DA05', 'ALNR', 'AS03', 'RIGL', 'DVB', 'PVNL', 'RMGR', 'VB07', 'SDQL', 'RMHR', 'AS08', 'RMDL', 'RMDVR', 'ASJR', 'VD10', 'DB03', 'AVEL', 'VA09', 'DD01', 'URXR', 'SIBDR', 'AS11', 'RIMR', 'RIAL', 'RMFL', 'AUAR', 'VA01', 'LUAR', 'RIH', 'AIBR', 'FLPR', 'SMDVR', 'AIYL', 'PVM', 'OLLR', 'DD05', 'AWBR', 'ASIR', 'VD01', 'DVA', 'BDUL', 'SABVL', 'PVCR', 'SMBVR', 'URADR', 'VB08', 'IL1L', 'VA10', 'URYVR', 'ADLR', 'PVWR', 'ASKL', 'AIZR', 'ADAL', 'VB11', 'BDUR', 'VD06', 'AIBL', 'VC02', 'HSNL', 'RIVR'}\n"
     ]
    }
   ],
   "source": [
    "largest_component = max(components, key=len)\n",
    "print(largest_component)"
   ]
  },
  {
   "cell_type": "markdown",
   "metadata": {},
   "source": [
    "Diâmetro do maior componente"
   ]
  },
  {
   "cell_type": "code",
   "execution_count": 57,
   "metadata": {},
   "outputs": [
    {
     "name": "stdout",
     "output_type": "stream",
     "text": [
      "Diâmetro do maior componente:  5\n"
     ]
    }
   ],
   "source": [
    "subgraph = G.subgraph(largest_component)\n",
    "diameter = nx.diameter(subgraph)\n",
    "print('Diâmetro do maior componente: ', diameter)"
   ]
  },
  {
   "cell_type": "markdown",
   "metadata": {},
   "source": [
    "Obtém o grau dos nós"
   ]
  },
  {
   "cell_type": "code",
   "execution_count": 58,
   "metadata": {},
   "outputs": [
    {
     "name": "stdout",
     "output_type": "stream",
     "text": [
      "{'ADAL': 25, 'ADAR': 22, 'ADEL': 29, 'ADER': 24, 'ADFL': 10, 'ADFR': 18, 'ADLL': 21, 'ADLR': 17, 'AFDL': 6, 'AFDR': 8, 'AIAL': 21, 'AIAR': 17, 'AIBL': 34, 'AIBR': 39, 'AIML': 17, 'AIMR': 13, 'AINL': 9, 'AINR': 13, 'AIYL': 15, 'AIYR': 14, 'AIZL': 24, 'AIZR': 24, 'ALA': 8, 'ALML': 14, 'ALMR': 7, 'ALNL': 5, 'ALNR': 8, 'AQR': 21, 'AS01': 12, 'AS10': 6, 'AS11': 7, 'AS02': 10, 'AS03': 12, 'AS04': 9, 'AS05': 12, 'AS06': 9, 'AS07': 4, 'AS08': 2, 'AS09': 4, 'ASEL': 15, 'ASER': 16, 'ASGL': 7, 'ASGR': 9, 'ASHL': 20, 'ASHR': 22, 'ASIL': 10, 'ASIR': 8, 'ASJL': 6, 'ASJR': 6, 'ASKL': 12, 'ASKR': 10, 'AUAL': 13, 'AUAR': 14, 'AVAL': 92, 'AVAR': 93, 'AVBL': 75, 'AVBR': 74, 'AVDL': 44, 'AVDR': 55, 'AVEL': 55, 'AVER': 56, 'AVFL': 22, 'AVFR': 19, 'AVG': 22, 'AVHL': 24, 'AVHR': 22, 'AVJL': 31, 'AVJR': 29, 'AVKL': 34, 'AVKR': 24, 'AVL': 27, 'AVM': 19, 'AWAL': 9, 'AWAR': 15, 'AWBL': 13, 'AWBR': 15, 'AWCL': 12, 'AWCR': 12, 'BAGL': 13, 'BAGR': 12, 'BDUL': 11, 'BDUR': 13, 'CEPDL': 20, 'CEPDR': 24, 'CEPVL': 16, 'CEPVR': 19, 'DA01': 14, 'DA02': 16, 'DA03': 14, 'DA04': 12, 'DA05': 13, 'DA06': 8, 'DA07': 2, 'DA08': 10, 'DA09': 13, 'DB01': 16, 'DB02': 13, 'DB03': 19, 'DB04': 14, 'DB05': 7, 'DB06': 7, 'DB07': 7, 'DD01': 21, 'DD02': 20, 'DD03': 14, 'DD04': 8, 'DD05': 6, 'DD06': 8, 'DVA': 50, 'DVB': 10, 'DVC': 27, 'FLPL': 15, 'FLPR': 16, 'HSNL': 24, 'HSNR': 33, 'IL1DL': 13, 'IL1DR': 10, 'IL1L': 12, 'IL1R': 18, 'IL1VL': 11, 'IL1VR': 12, 'IL2DL': 8, 'IL2DR': 9, 'IL2L': 14, 'IL2R': 13, 'IL2VL': 11, 'IL2VR': 11, 'LUAL': 12, 'LUAR': 11, 'OLLL': 18, 'OLLR': 21, 'OLQDL': 13, 'OLQDR': 15, 'OLQVL': 15, 'OLQVR': 15, 'PDA': 6, 'PDB': 3, 'PDEL': 10, 'PDER': 12, 'PHAL': 10, 'PHAR': 9, 'PHBL': 9, 'PHBR': 13, 'PHCL': 9, 'PHCR': 7, 'PLML': 4, 'PLMR': 14, 'PLNL': 2, 'PLNR': 2, 'PQR': 9, 'PVCL': 54, 'PVCR': 53, 'PVDL': 7, 'PVDR': 7, 'PVM': 8, 'PVNL': 24, 'PVNR': 26, 'PVPL': 23, 'PVPR': 25, 'PVQL': 14, 'PVQR': 24, 'PVR': 30, 'PVT': 28, 'PVWL': 10, 'PVWR': 6, 'RIAL': 33, 'RIAR': 36, 'RIBL': 38, 'RIBR': 34, 'RICL': 25, 'RICR': 24, 'RID': 18, 'RIFL': 15, 'RIFR': 19, 'RIGL': 33, 'RIGR': 25, 'RIH': 32, 'RIML': 29, 'RIMR': 31, 'RIPL': 17, 'RIPR': 16, 'RIR': 22, 'RIS': 28, 'RIVL': 12, 'RIVR': 16, 'RMDDL': 21, 'RMDDR': 19, 'RMDL': 23, 'RMDR': 22, 'RMDVL': 20, 'RMDVR': 24, 'RMED': 10, 'RMEL': 11, 'RMER': 16, 'RMEV': 20, 'RMFL': 14, 'RMFR': 9, 'RMGL': 28, 'RMGR': 23, 'RMHL': 9, 'RMHR': 10, 'SAADL': 13, 'SAADR': 16, 'SAAVL': 12, 'SAAVR': 10, 'SABD': 14, 'SABVL': 10, 'SABVR': 9, 'SDQL': 11, 'SDQR': 13, 'SIADL': 5, 'SIADR': 4, 'SIAVL': 6, 'SIAVR': 6, 'SIBDL': 3, 'SIBDR': 7, 'SIBVL': 10, 'SIBVR': 9, 'SMBDL': 14, 'SMBDR': 17, 'SMBVL': 10, 'SMBVR': 11, 'SMDDL': 17, 'SMDDR': 22, 'SMDVL': 18, 'SMDVR': 16, 'URADL': 7, 'URADR': 9, 'URAVL': 6, 'URAVR': 7, 'URBL': 12, 'URBR': 14, 'URXL': 13, 'URXR': 17, 'URYDL': 11, 'URYDR': 10, 'URYVL': 13, 'URYVR': 13, 'VA01': 8, 'VA10': 3, 'VA11': 10, 'VA12': 21, 'VA02': 13, 'VA03': 14, 'VA04': 12, 'VA05': 9, 'VA06': 8, 'VA07': 8, 'VA08': 13, 'VA09': 16, 'VB01': 20, 'VB10': 10, 'VB11': 8, 'VB02': 15, 'VB03': 7, 'VB04': 10, 'VB05': 8, 'VB06': 11, 'VB07': 6, 'VB08': 10, 'VB09': 11, 'VC01': 15, 'VC02': 18, 'VC03': 22, 'VC04': 6, 'VC05': 9, 'VD01': 18, 'VD10': 7, 'VD11': 5, 'VD12': 6, 'VD13': 11, 'VD02': 17, 'VD03': 15, 'VD04': 15, 'VD05': 17, 'VD06': 15, 'VD07': 7, 'VD08': 2, 'VD09': 5}\n"
     ]
    }
   ],
   "source": [
    "degree_dict = dict(G.degree(G.nodes()))\n",
    "print(degree_dict)\n",
    "#nx.set_node_attributes(G, degree_dict, 'degree')\n",
    "#print(G.node['William Penn'])"
   ]
  },
  {
   "cell_type": "markdown",
   "metadata": {},
   "source": [
    "Ontem apenas o grau do nó"
   ]
  },
  {
   "cell_type": "code",
   "execution_count": 59,
   "metadata": {},
   "outputs": [
    {
     "name": "stdout",
     "output_type": "stream",
     "text": [
      "[25, 22, 29, 24, 10, 18, 21, 17, 6, 8, 21, 17, 34, 39, 17, 13, 9, 13, 15, 14, 24, 24, 8, 14, 7, 5, 8, 21, 12, 6, 7, 10, 12, 9, 12, 9, 4, 2, 4, 15, 16, 7, 9, 20, 22, 10, 8, 6, 6, 12, 10, 13, 14, 92, 93, 75, 74, 44, 55, 55, 56, 22, 19, 22, 24, 22, 31, 29, 34, 24, 27, 19, 9, 15, 13, 15, 12, 12, 13, 12, 11, 13, 20, 24, 16, 19, 14, 16, 14, 12, 13, 8, 2, 10, 13, 16, 13, 19, 14, 7, 7, 7, 21, 20, 14, 8, 6, 8, 50, 10, 27, 15, 16, 24, 33, 13, 10, 12, 18, 11, 12, 8, 9, 14, 13, 11, 11, 12, 11, 18, 21, 13, 15, 15, 15, 6, 3, 10, 12, 10, 9, 9, 13, 9, 7, 4, 14, 2, 2, 9, 54, 53, 7, 7, 8, 24, 26, 23, 25, 14, 24, 30, 28, 10, 6, 33, 36, 38, 34, 25, 24, 18, 15, 19, 33, 25, 32, 29, 31, 17, 16, 22, 28, 12, 16, 21, 19, 23, 22, 20, 24, 10, 11, 16, 20, 14, 9, 28, 23, 9, 10, 13, 16, 12, 10, 14, 10, 9, 11, 13, 5, 4, 6, 6, 3, 7, 10, 9, 14, 17, 10, 11, 17, 22, 18, 16, 7, 9, 6, 7, 12, 14, 13, 17, 11, 10, 13, 13, 8, 3, 10, 21, 13, 14, 12, 9, 8, 8, 13, 16, 20, 10, 8, 15, 7, 10, 8, 11, 6, 10, 11, 15, 18, 22, 6, 9, 18, 7, 5, 6, 11, 17, 15, 15, 17, 15, 7, 2, 5]\n"
     ]
    },
    {
     "data": {
      "image/png": "[encoded data removed]",
      "text/plain": [
       "<Figure size 432x288 with 1 Axes>"
      ]
     },
     "metadata": {
      "needs_background": "light"
     },
     "output_type": "display_data"
    },
    {
     "data": {
      "text/plain": [
       "<Figure size 432x288 with 0 Axes>"
      ]
     },
     "metadata": {},
     "output_type": "display_data"
    }
   ],
   "source": [
    "values = list()\n",
    "for key in degree_dict.keys():\n",
    "    values.append(degree_dict[key])\n",
    "\n",
    "print(values)\n",
    "'''\n",
    "plt.hist(values, bins=15)\n",
    "plt.ylabel('# of nodes')\n",
    "plt.xlabel('degree')\n",
    "plt.show()\n",
    "plt.savefig('degree_distribution.png')\n",
    "'''\n",
    "plt.hist(values, bins=50, density=1,\n",
    "cumulative=True, label='CDF DATA',\n",
    "histtype='step', color='purple')\n",
    "plt.ylabel('# of nodes')\n",
    "plt.xlabel('degree')\n",
    "plt.show()\n",
    "plt.savefig('degree_cdf.png')"
   ]
  }
 ],
 "metadata": {
  "kernelspec": {
   "display_name": "Python 3",
   "language": "python",
   "name": "python3"
  },
  "language_info": {
   "codemirror_mode": {
    "name": "ipython",
    "version": 3
   },
   "file_extension": ".py",
   "mimetype": "text/x-python",
   "name": "python",
   "nbconvert_exporter": "python",
   "pygments_lexer": "ipython3",
   "version": "3.7.1"
  }
 },
 "nbformat": 4,
 "nbformat_minor": 2
}
