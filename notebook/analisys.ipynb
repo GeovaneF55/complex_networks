{
 "cells": [
  {
   "cell_type": "code",
   "execution_count": 3,
   "metadata": {},
   "outputs": [],
   "source": [
    "import os\n",
    "import sys\n",
    "import csv                                                      \n",
    "import networkx as nx\n",
    "from operator import itemgetter\n",
    "import community\n",
    "import matplotlib.pyplot as plt\n",
    "import numpy as np"
   ]
  },
  {
   "cell_type": "code",
   "execution_count": 7,
   "metadata": {},
   "outputs": [],
   "source": [
    "module_path = os.path.abspath(os.path.join('..'))\n",
    "src_path = '{}/src'.format(module_path)\n",
    "if module_path not in sys.path:\n",
    "    sys.path.append(src_path)\n",
    "\n",
    "c_elegans_undir_names_path = '{}/data/c_elegans_undir_names.txt'.format(module_path)\n",
    "c_elegans_undir_path = '{}/data/c_elegans_undir.net'.format(module_path)"
   ]
  },
  {
   "cell_type": "markdown",
   "metadata": {},
   "source": [
    "Leitura do arquivo c_elegans_undir_names"
   ]
  },
  {
   "cell_type": "code",
   "execution_count": 38,
   "metadata": {},
   "outputs": [],
   "source": [
    "with open(c_elegans_undir_names_path, 'r') as celenamenet:\n",
    "    nodereader = celenamenet.read()\n",
    "    node_names = [n.split(' ')[1] for n in nodereader.split('\\n')[:-1]]"
   ]
  },
  {
   "cell_type": "markdown",
   "metadata": {},
   "source": [
    "Leitura do arquivo c_elegans_undir"
   ]
  },
  {
   "cell_type": "code",
   "execution_count": 42,
   "metadata": {},
   "outputs": [],
   "source": [
    "with open(c_elegans_undir_path, 'r') as celenet:\n",
    "    edgereader = celenet.read()\n",
    "    edges = [tuple(n.split(' ')) for n in edgereader.split('\\n')[:-1]]"
   ]
  },
  {
   "cell_type": "markdown",
   "metadata": {},
   "source": [
    "Imprime a quantidade de cada um"
   ]
  },
  {
   "cell_type": "code",
   "execution_count": 45,
   "metadata": {},
   "outputs": [
    {
     "name": "stdout",
     "output_type": "stream",
     "text": [
      "279\n",
      "2287\n",
      "Name: \n",
      "Type: Graph\n",
      "Number of nodes: 558\n",
      "Number of edges: 2287\n",
      "Average degree:   8.1971\n",
      "Densidade da rede:  0.014716575613083403\n"
     ]
    }
   ],
   "source": [
    "print(len(node_names))  \n",
    "print(len(edges))                                                                               \n",
    "\n",
    "G = nx.Graph() # inicializando o grafo                                                   \n",
    "G.add_nodes_from(node_names) # cria os nós                           \n",
    "G.add_edges_from(edges) # adiciona as arestas no grafo  \n",
    "print(nx.info(G)) # imprime informações do grafo (resumo)\n",
    "\n",
    "density = nx.density(G)\n",
    "print('Densidade da rede: ', density)\n",
    "\n",
    "#fell_whitehead_path = nx.shortest_path(G, source='ADAL',target='AIYL')\n",
    "#print('Menor caminho entre Fell e Whitehead: ', fell_whitehead_path)"
   ]
  },
  {
   "cell_type": "markdown",
   "metadata": {},
   "source": [
    "Grafo é conexo?"
   ]
  },
  {
   "cell_type": "code",
   "execution_count": 46,
   "metadata": {},
   "outputs": [
    {
     "name": "stdout",
     "output_type": "stream",
     "text": [
      "False\n"
     ]
    }
   ],
   "source": [
    "print(nx.is_connected(G))"
   ]
  },
  {
   "cell_type": "markdown",
   "metadata": {},
   "source": [
    "Obtém os componentes do grafo"
   ]
  },
  {
   "cell_type": "code",
   "execution_count": 47,
   "metadata": {},
   "outputs": [
    {
     "name": "stdout",
     "output_type": "stream",
     "text": [
      "<generator object connected_components at 0x7fd35c4a8660>\n"
     ]
    }
   ],
   "source": [
    "components = nx.connected_components(G)\n",
    "print(components)"
   ]
  },
  {
   "cell_type": "markdown",
   "metadata": {},
   "source": [
    "Obtém o maior componente"
   ]
  },
  {
   "cell_type": "code",
   "execution_count": 48,
   "metadata": {},
   "outputs": [
    {
     "name": "stdout",
     "output_type": "stream",
     "text": [
      "{'225', '26', '112', '27', '155', '79', '160', '211', '172', '274', '145', '161', '239', '14', '36', '124', '12', '117', '22', '255', '10', '57', '169', '20', '109', '238', '30', '32', '104', '207', '254', '68', '164', '218', '85', '219', '273', '87', '58', '126', '23', '265', '149', '195', '163', '125', '253', '205', '11', '191', '121', '221', '4', '210', '93', '269', '45', '61', '84', '107', '186', '249', '192', '168', '252', '176', '229', '63', '209', '184', '226', '198', '31', '94', '48', '70', '146', '214', '278', '144', '220', '73', '245', '170', '74', '99', '52', '243', '59', '89', '66', '189', '242', '113', '196', '147', '148', '130', '101', '256', '39', '150', '100', '102', '227', '44', '95', '276', '110', '64', '13', '165', '162', '88', '153', '259', '261', '81', '90', '116', '67', '42', '222', '15', '35', '271', '123', '127', '247', '159', '241', '103', '204', '230', '216', '257', '158', '263', '181', '156', '215', '41', '166', '69', '177', '1', '7', '131', '134', '133', '55', '65', '111', '233', '212', '277', '250', '213', '173', '248', '197', '178', '208', '152', '138', '98', '174', '76', '141', '53', '2', '143', '179', '17', '75', '182', '115', '240', '47', '96', '18', '232', '267', '199', '38', '193', '82', '270', '8', '51', '135', '114', '122', '137', '91', '3', '236', '139', '29', '9', '234', '62', '251', '83', '132', '262', '275', '188', '129', '0', '183', '185', '6', '25', '86', '228', '187', '60', '171', '37', '223', '203', '136', '108', '258', '40', '80', '266', '244', '175', '217', '167', '71', '92', '246', '21', '201', '54', '97', '157', '28', '272', '268', '264', '140', '46', '43', '224', '200', '260', '16', '180', '33', '119', '235', '78', '49', '206', '120', '50', '128', '77', '190', '154', '237', '34', '24', '118', '106', '231', '105', '19', '151', '202', '194', '56', '5', '142', '72'}\n"
     ]
    }
   ],
   "source": [
    "largest_component = max(components, key=len)\n",
    "print(largest_component)"
   ]
  },
  {
   "cell_type": "markdown",
   "metadata": {},
   "source": [
    "Diâmetro do maior componente"
   ]
  },
  {
   "cell_type": "code",
   "execution_count": 49,
   "metadata": {},
   "outputs": [
    {
     "name": "stdout",
     "output_type": "stream",
     "text": [
      "Diâmetro do maior componente:  5\n"
     ]
    }
   ],
   "source": [
    "subgraph = G.subgraph(largest_component)\n",
    "diameter = nx.diameter(subgraph)\n",
    "print('Diâmetro do maior componente: ', diameter)"
   ]
  },
  {
   "cell_type": "markdown",
   "metadata": {},
   "source": [
    "Obtém o grau dos nós"
   ]
  },
  {
   "cell_type": "code",
   "execution_count": 50,
   "metadata": {},
   "outputs": [
    {
     "name": "stdout",
     "output_type": "stream",
     "text": [
      "{'ADAL': 0, 'ADAR': 0, 'ADEL': 0, 'ADER': 0, 'ADFL': 0, 'ADFR': 0, 'ADLL': 0, 'ADLR': 0, 'AFDL': 0, 'AFDR': 0, 'AIAL': 0, 'AIAR': 0, 'AIBL': 0, 'AIBR': 0, 'AIML': 0, 'AIMR': 0, 'AINL': 0, 'AINR': 0, 'AIYL': 0, 'AIYR': 0, 'AIZL': 0, 'AIZR': 0, 'ALA': 0, 'ALML': 0, 'ALMR': 0, 'ALNL': 0, 'ALNR': 0, 'AQR': 0, 'AS01': 0, 'AS10': 0, 'AS11': 0, 'AS02': 0, 'AS03': 0, 'AS04': 0, 'AS05': 0, 'AS06': 0, 'AS07': 0, 'AS08': 0, 'AS09': 0, 'ASEL': 0, 'ASER': 0, 'ASGL': 0, 'ASGR': 0, 'ASHL': 0, 'ASHR': 0, 'ASIL': 0, 'ASIR': 0, 'ASJL': 0, 'ASJR': 0, 'ASKL': 0, 'ASKR': 0, 'AUAL': 0, 'AUAR': 0, 'AVAL': 0, 'AVAR': 0, 'AVBL': 0, 'AVBR': 0, 'AVDL': 0, 'AVDR': 0, 'AVEL': 0, 'AVER': 0, 'AVFL': 0, 'AVFR': 0, 'AVG': 0, 'AVHL': 0, 'AVHR': 0, 'AVJL': 0, 'AVJR': 0, 'AVKL': 0, 'AVKR': 0, 'AVL': 0, 'AVM': 0, 'AWAL': 0, 'AWAR': 0, 'AWBL': 0, 'AWBR': 0, 'AWCL': 0, 'AWCR': 0, 'BAGL': 0, 'BAGR': 0, 'BDUL': 0, 'BDUR': 0, 'CEPDL': 0, 'CEPDR': 0, 'CEPVL': 0, 'CEPVR': 0, 'DA01': 0, 'DA02': 0, 'DA03': 0, 'DA04': 0, 'DA05': 0, 'DA06': 0, 'DA07': 0, 'DA08': 0, 'DA09': 0, 'DB01': 0, 'DB02': 0, 'DB03': 0, 'DB04': 0, 'DB05': 0, 'DB06': 0, 'DB07': 0, 'DD01': 0, 'DD02': 0, 'DD03': 0, 'DD04': 0, 'DD05': 0, 'DD06': 0, 'DVA': 0, 'DVB': 0, 'DVC': 0, 'FLPL': 0, 'FLPR': 0, 'HSNL': 0, 'HSNR': 0, 'IL1DL': 0, 'IL1DR': 0, 'IL1L': 0, 'IL1R': 0, 'IL1VL': 0, 'IL1VR': 0, 'IL2DL': 0, 'IL2DR': 0, 'IL2L': 0, 'IL2R': 0, 'IL2VL': 0, 'IL2VR': 0, 'LUAL': 0, 'LUAR': 0, 'OLLL': 0, 'OLLR': 0, 'OLQDL': 0, 'OLQDR': 0, 'OLQVL': 0, 'OLQVR': 0, 'PDA': 0, 'PDB': 0, 'PDEL': 0, 'PDER': 0, 'PHAL': 0, 'PHAR': 0, 'PHBL': 0, 'PHBR': 0, 'PHCL': 0, 'PHCR': 0, 'PLML': 0, 'PLMR': 0, 'PLNL': 0, 'PLNR': 0, 'PQR': 0, 'PVCL': 0, 'PVCR': 0, 'PVDL': 0, 'PVDR': 0, 'PVM': 0, 'PVNL': 0, 'PVNR': 0, 'PVPL': 0, 'PVPR': 0, 'PVQL': 0, 'PVQR': 0, 'PVR': 0, 'PVT': 0, 'PVWL': 0, 'PVWR': 0, 'RIAL': 0, 'RIAR': 0, 'RIBL': 0, 'RIBR': 0, 'RICL': 0, 'RICR': 0, 'RID': 0, 'RIFL': 0, 'RIFR': 0, 'RIGL': 0, 'RIGR': 0, 'RIH': 0, 'RIML': 0, 'RIMR': 0, 'RIPL': 0, 'RIPR': 0, 'RIR': 0, 'RIS': 0, 'RIVL': 0, 'RIVR': 0, 'RMDDL': 0, 'RMDDR': 0, 'RMDL': 0, 'RMDR': 0, 'RMDVL': 0, 'RMDVR': 0, 'RMED': 0, 'RMEL': 0, 'RMER': 0, 'RMEV': 0, 'RMFL': 0, 'RMFR': 0, 'RMGL': 0, 'RMGR': 0, 'RMHL': 0, 'RMHR': 0, 'SAADL': 0, 'SAADR': 0, 'SAAVL': 0, 'SAAVR': 0, 'SABD': 0, 'SABVL': 0, 'SABVR': 0, 'SDQL': 0, 'SDQR': 0, 'SIADL': 0, 'SIADR': 0, 'SIAVL': 0, 'SIAVR': 0, 'SIBDL': 0, 'SIBDR': 0, 'SIBVL': 0, 'SIBVR': 0, 'SMBDL': 0, 'SMBDR': 0, 'SMBVL': 0, 'SMBVR': 0, 'SMDDL': 0, 'SMDDR': 0, 'SMDVL': 0, 'SMDVR': 0, 'URADL': 0, 'URADR': 0, 'URAVL': 0, 'URAVR': 0, 'URBL': 0, 'URBR': 0, 'URXL': 0, 'URXR': 0, 'URYDL': 0, 'URYDR': 0, 'URYVL': 0, 'URYVR': 0, 'VA01': 0, 'VA10': 0, 'VA11': 0, 'VA12': 0, 'VA02': 0, 'VA03': 0, 'VA04': 0, 'VA05': 0, 'VA06': 0, 'VA07': 0, 'VA08': 0, 'VA09': 0, 'VB01': 0, 'VB10': 0, 'VB11': 0, 'VB02': 0, 'VB03': 0, 'VB04': 0, 'VB05': 0, 'VB06': 0, 'VB07': 0, 'VB08': 0, 'VB09': 0, 'VC01': 0, 'VC02': 0, 'VC03': 0, 'VC04': 0, 'VC05': 0, 'VD01': 0, 'VD10': 0, 'VD11': 0, 'VD12': 0, 'VD13': 0, 'VD02': 0, 'VD03': 0, 'VD04': 0, 'VD05': 0, 'VD06': 0, 'VD07': 0, 'VD08': 0, 'VD09': 0, '0': 25, '1': 22, '2': 29, '4': 10, '10': 21, '12': 34, '13': 39, '43': 20, '54': 93, '55': 75, '56': 74, '57': 44, '58': 55, '59': 55, '67': 29, '72': 9, '112': 16, '157': 23, '159': 14, '161': 30, '169': 25, '170': 24, '177': 29, '179': 17, '197': 28, '225': 16, '3': 24, '5': 18, '11': 17, '44': 22, '53': 92, '66': 31, '160': 24, '178': 31, '180': 16, '184': 16, '198': 23, '224': 18, '231': 14, '16': 9, '22': 8, '69': 24, '70': 27, '80': 11, '82': 20, '111': 15, '117': 12, '123': 14, '129': 18, '165': 33, '172': 15, '174': 33, '175': 25, '176': 32, '183': 12, '187': 23, '199': 9, '211': 4, '215': 7, '219': 17, '230': 12, '26': 8, '60': 56, '68': 34, '71': 19, '81': 13, '83': 24, '124': 13, '130': 21, '188': 22, '204': 10, '20': 24, '51': 13, '74': 13, '133': 15, '181': 22, '220': 10, '19': 14, '21': 24, '39': 15, '52': 14, '64': 24, '73': 15, '75': 15, '158': 25, '166': 36, '221': 11, '233': 17, '6': 21, '7': 17, '40': 16, '65': 22, '84': 16, '209': 13, '77': 12, '150': 54, '8': 6, '9': 8, '17': 13, '18': 15, '14': 17, '41': 7, '45': 10, '46': 8, '49': 12, '76': 12, '113': 24, '15': 13, '42': 9, '50': 10, '173': 19, '78': 13, '110': 27, '114': 33, '162': 28, '168': 34, '201': 13, '202': 16, '203': 12, '223': 22, '95': 16, '167': 38, '182': 28, '208': 11, '222': 17, '250': 20, '23': 14, '61': 22, '62': 19, '48': 6, '132': 15, '156': 26, '79': 12, '171': 18, '108': 50, '218': 14, '253': 15, '151': 53, '186': 19, '24': 7, '85': 19, '185': 21, '210': 5, '25': 5, '200': 10, '27': 21, '232': 13, '28': 12, '86': 14, '243': 14, '266': 18, '271': 17, '29': 6, '30': 7, '135': 6, '136': 3, '241': 21, '270': 11, '31': 10, '87': 16, '102': 21, '244': 12, '32': 12, '88': 14, '245': 9, '272': 15, '33': 9, '34': 12, '97': 19, '273': 15, '103': 20, '247': 8, '274': 17, '35': 9, '90': 13, '146': 14, '248': 13, '275': 15, '36': 4, '37': 2, '38': 4, '109': 10, '47': 6, '121': 8, '89': 12, '91': 8, '92': 2, '93': 10, '94': 13, '99': 7, '100': 7, '127': 12, '128': 11, '141': 9, '142': 13, '143': 9, '149': 9, '152': 7, '153': 7, '155': 24, '205': 14, '207': 9, '234': 11, '237': 13, '238': 8, '239': 3, '240': 10, '242': 13, '246': 8, '249': 16, '260': 11, '63': 22, '137': 10, '138': 12, '164': 6, '206': 10, '235': 10, '236': 13, '268': 5, '98': 14, '101': 7, '216': 10, '251': 10, '252': 8, '255': 10, '256': 8, '257': 11, '258': 6, '259': 10, '263': 22, '264': 6, '96': 13, '254': 7, '267': 7, '139': 10, '118': 18, '190': 24, '194': 20, '189': 20, '265': 9, '140': 9, '144': 7, '163': 10, '154': 8, '195': 14, '196': 9, '213': 6, '107': 8, '261': 15, '269': 6, '125': 11, '226': 7, '227': 9, '115': 13, '131': 13, '116': 10, '122': 9, '119': 11, '212': 6, '228': 6, '120': 12, '126': 11, '134': 15, '229': 7, '104': 14, '262': 18, '105': 8, '277': 2, '106': 6, '278': 5, '145': 4, '193': 16, '192': 11, '191': 10, '217': 9, '214': 3, '147': 2, '148': 2, '276': 7}\n"
     ]
    }
   ],
   "source": [
    "degree_dict = dict(G.degree(G.nodes()))\n",
    "print(degree_dict)\n",
    "#nx.set_node_attributes(G, degree_dict, 'degree')\n",
    "#print(G.node['William Penn'])"
   ]
  },
  {
   "cell_type": "markdown",
   "metadata": {},
   "source": [
    "Ontem apenas o grau do nó"
   ]
  },
  {
   "cell_type": "code",
   "execution_count": 51,
   "metadata": {},
   "outputs": [
    {
     "name": "stdout",
     "output_type": "stream",
     "text": [
      "[0, 0, 0, 0, 0, 0, 0, 0, 0, 0, 0, 0, 0, 0, 0, 0, 0, 0, 0, 0, 0, 0, 0, 0, 0, 0, 0, 0, 0, 0, 0, 0, 0, 0, 0, 0, 0, 0, 0, 0, 0, 0, 0, 0, 0, 0, 0, 0, 0, 0, 0, 0, 0, 0, 0, 0, 0, 0, 0, 0, 0, 0, 0, 0, 0, 0, 0, 0, 0, 0, 0, 0, 0, 0, 0, 0, 0, 0, 0, 0, 0, 0, 0, 0, 0, 0, 0, 0, 0, 0, 0, 0, 0, 0, 0, 0, 0, 0, 0, 0, 0, 0, 0, 0, 0, 0, 0, 0, 0, 0, 0, 0, 0, 0, 0, 0, 0, 0, 0, 0, 0, 0, 0, 0, 0, 0, 0, 0, 0, 0, 0, 0, 0, 0, 0, 0, 0, 0, 0, 0, 0, 0, 0, 0, 0, 0, 0, 0, 0, 0, 0, 0, 0, 0, 0, 0, 0, 0, 0, 0, 0, 0, 0, 0, 0, 0, 0, 0, 0, 0, 0, 0, 0, 0, 0, 0, 0, 0, 0, 0, 0, 0, 0, 0, 0, 0, 0, 0, 0, 0, 0, 0, 0, 0, 0, 0, 0, 0, 0, 0, 0, 0, 0, 0, 0, 0, 0, 0, 0, 0, 0, 0, 0, 0, 0, 0, 0, 0, 0, 0, 0, 0, 0, 0, 0, 0, 0, 0, 0, 0, 0, 0, 0, 0, 0, 0, 0, 0, 0, 0, 0, 0, 0, 0, 0, 0, 0, 0, 0, 0, 0, 0, 0, 0, 0, 0, 0, 0, 0, 0, 0, 0, 0, 0, 0, 0, 0, 0, 0, 0, 0, 0, 0, 0, 0, 0, 0, 0, 0, 25, 22, 29, 10, 21, 34, 39, 20, 93, 75, 74, 44, 55, 55, 29, 9, 16, 23, 14, 30, 25, 24, 29, 17, 28, 16, 24, 18, 17, 22, 92, 31, 24, 31, 16, 16, 23, 18, 14, 9, 8, 24, 27, 11, 20, 15, 12, 14, 18, 33, 15, 33, 25, 32, 12, 23, 9, 4, 7, 17, 12, 8, 56, 34, 19, 13, 24, 13, 21, 22, 10, 24, 13, 13, 15, 22, 10, 14, 24, 15, 14, 24, 15, 15, 25, 36, 11, 17, 21, 17, 16, 22, 16, 13, 12, 54, 6, 8, 13, 15, 17, 7, 10, 8, 12, 12, 24, 13, 9, 10, 19, 13, 27, 33, 28, 34, 13, 16, 12, 22, 16, 38, 28, 11, 17, 20, 14, 22, 19, 6, 15, 26, 12, 18, 50, 14, 15, 53, 19, 7, 19, 21, 5, 5, 10, 21, 13, 12, 14, 14, 18, 17, 6, 7, 6, 3, 21, 11, 10, 16, 21, 12, 12, 14, 9, 15, 9, 12, 19, 15, 20, 8, 17, 9, 13, 14, 13, 15, 4, 2, 4, 10, 6, 8, 12, 8, 2, 10, 13, 7, 7, 12, 11, 9, 13, 9, 9, 7, 7, 24, 14, 9, 11, 13, 8, 3, 10, 13, 8, 16, 11, 22, 10, 12, 6, 10, 10, 13, 5, 14, 7, 10, 10, 8, 10, 8, 11, 6, 10, 22, 6, 13, 7, 7, 10, 18, 24, 20, 20, 9, 9, 7, 10, 8, 14, 9, 6, 8, 15, 6, 11, 7, 9, 13, 13, 10, 9, 11, 6, 6, 12, 11, 15, 7, 14, 18, 8, 2, 6, 5, 4, 16, 11, 10, 9, 3, 2, 2, 7]\n"
     ]
    },
    {
     "data": {
      "image/png": "[encoded data removed]",
      "text/plain": [
       "<Figure size 432x288 with 1 Axes>"
      ]
     },
     "metadata": {
      "needs_background": "light"
     },
     "output_type": "display_data"
    },
    {
     "data": {
      "text/plain": [
       "<Figure size 432x288 with 0 Axes>"
      ]
     },
     "metadata": {},
     "output_type": "display_data"
    }
   ],
   "source": [
    "values = list()\n",
    "for key in degree_dict.keys():\n",
    "    values.append(degree_dict[key])\n",
    "\n",
    "print(values)\n",
    "'''\n",
    "plt.hist(values, bins=15)\n",
    "plt.ylabel('# of nodes')\n",
    "plt.xlabel('degree')\n",
    "plt.show()\n",
    "plt.savefig('degree_distribution.png')\n",
    "'''\n",
    "plt.hist(values, bins=50, density=1,\n",
    "cumulative=True, label='CDF DATA',\n",
    "histtype='step', color='purple')\n",
    "plt.ylabel('# of nodes')\n",
    "plt.xlabel('degree')\n",
    "plt.show()\n",
    "plt.savefig('degree_cdf.png')"
   ]
  }
 ],
 "metadata": {
  "kernelspec": {
   "display_name": "Python 3",
   "language": "python",
   "name": "python3"
  },
  "language_info": {
   "codemirror_mode": {
    "name": "ipython",
    "version": 3
   },
   "file_extension": ".py",
   "mimetype": "text/x-python",
   "name": "python",
   "nbconvert_exporter": "python",
   "pygments_lexer": "ipython3",
   "version": "3.7.1"
  }
 },
 "nbformat": 4,
 "nbformat_minor": 2
}
