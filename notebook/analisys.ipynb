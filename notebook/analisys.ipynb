{
 "cells": [
  {
   "cell_type": "code",
   "execution_count": null,
   "metadata": {},
   "outputs": [],
   "source": [
    "import csv                                                       \n",
    "import networkx as nx\n",
    "from operator import itemgetter\n",
    "import community\n",
    "import matplotlib.pyplot as plt\n",
    "import numpy as np"
   ]
  },
  {
   "cell_type": "markdown",
   "metadata": {},
   "source": [
    "Leitura do nodelist file"
   ]
  },
  {
   "cell_type": "code",
   "execution_count": null,
   "metadata": {},
   "outputs": [],
   "source": [
    "with open('quakers_nodelist.csv', 'r') as nodecsv:                 \n",
    "    nodereader = csv.reader(nodecsv)                                       \n",
    "    nodes = [n for n in nodereader][1:] "
   ]
  },
  {
   "cell_type": "markdown",
   "metadata": {},
   "source": [
    "Obtém a lista de nomes, primeiro item do registro"
   ]
  },
  {
   "cell_type": "code",
   "execution_count": null,
   "metadata": {},
   "outputs": [],
   "source": [
    "node_names = [n[0] for n in nodes]  "
   ]
  },
  {
   "cell_type": "markdown",
   "metadata": {},
   "source": [
    "Leitura do arquivo de arestas"
   ]
  },
  {
   "cell_type": "code",
   "execution_count": null,
   "metadata": {},
   "outputs": [],
   "source": [
    "with open('quakers_edgelist.csv', 'r') as edgecsv:                         \n",
    "    edgereader = csv.reader(edgecsv)                                   \n",
    "    edges = [tuple(e) for e in edgereader][1:]"
   ]
  },
  {
   "cell_type": "markdown",
   "metadata": {},
   "source": [
    "Imprime a quantidade de cada um"
   ]
  },
  {
   "cell_type": "code",
   "execution_count": null,
   "metadata": {},
   "outputs": [],
   "source": [
    "print(len(node_names))  \n",
    "print(len(edges))                                                                               \n",
    "\n",
    "G = nx.Graph() # inicializando o grafo                                                   \n",
    "G.add_nodes_from(node_names) # cria os nós                           \n",
    "G.add_edges_from(edges) # adiciona as arestas no grafo  \n",
    "print(nx.info(G)) # imprime informações do grafo (resumo)\n",
    "\n",
    "density = nx.density(G)\n",
    "print('Densidade da rede: ', density)\n",
    "\n",
    "fell_whitehead_path = nx.shortest_path(G, source='Margaret Fell',target='George Whitehead')\n",
    "print('Menor caminho entre Fell e Whitehead: ', fell_whitehead_path)"
   ]
  },
  {
   "cell_type": "markdown",
   "metadata": {},
   "source": [
    "Grafo é conexo?"
   ]
  },
  {
   "cell_type": "code",
   "execution_count": null,
   "metadata": {},
   "outputs": [],
   "source": [
    "print(nx.is_connected(G))"
   ]
  },
  {
   "cell_type": "markdown",
   "metadata": {},
   "source": [
    "Obtém os componentes do grafo"
   ]
  },
  {
   "cell_type": "code",
   "execution_count": null,
   "metadata": {},
   "outputs": [],
   "source": [
    "components = nx.connected_components(G)\n",
    "print(components)"
   ]
  },
  {
   "cell_type": "markdown",
   "metadata": {},
   "source": [
    "Obtém o maior componente"
   ]
  },
  {
   "cell_type": "code",
   "execution_count": null,
   "metadata": {},
   "outputs": [],
   "source": [
    "largest_component = max(components, key=len)\n",
    "print(largest_component)"
   ]
  },
  {
   "cell_type": "markdown",
   "metadata": {},
   "source": [
    "Diâmetro do maior componente"
   ]
  },
  {
   "cell_type": "code",
   "execution_count": null,
   "metadata": {},
   "outputs": [],
   "source": [
    "subgraph = G.subgraph(largest_component)\n",
    "diameter = nx.diameter(subgraph)\n",
    "print('Diâmetro do maior componente: ', diameter)"
   ]
  },
  {
   "cell_type": "markdown",
   "metadata": {},
   "source": [
    "Obtém o grau dos nós"
   ]
  },
  {
   "cell_type": "code",
   "execution_count": null,
   "metadata": {},
   "outputs": [],
   "source": [
    "degree_dict = dict(G.degree(G.nodes()))\n",
    "print(degree_dict)\n",
    "nx.set_node_attributes(G, degree_dict, 'degree')\n",
    "print(G.node['William Penn'])"
   ]
  },
  {
   "cell_type": "markdown",
   "metadata": {},
   "source": [
    "Ontem apenas o grau do nó"
   ]
  },
  {
   "cell_type": "code",
   "execution_count": null,
   "metadata": {},
   "outputs": [],
   "source": [
    "values = list()\n",
    "for key in degree_dict.keys():\n",
    "    values.append(degree_dict[key])\n",
    "\n",
    "print(values)\n",
    "'''\n",
    "plt.hist(values, bins=15)\n",
    "plt.ylabel('# of nodes')\n",
    "plt.xlabel('degree')\n",
    "plt.show()\n",
    "plt.savefig('degree_distribution.png')\n",
    "'''\n",
    "plt.hist(values, bins=50, density=1,\n",
    "cumulative=True, label='CDF DATA',\n",
    "histtype='step', color='purple')\n",
    "plt.ylabel('# of nodes')\n",
    "plt.xlabel('degree')\n",
    "plt.show()\n",
    "plt.savefig('degree_cdf.png')"
   ]
  }
 ],
 "metadata": {
  "kernelspec": {
   "display_name": "Python 3",
   "language": "python",
   "name": "python3"
  },
  "language_info": {
   "codemirror_mode": {
    "name": "ipython",
    "version": 3
   },
   "file_extension": ".py",
   "mimetype": "text/x-python",
   "name": "python",
   "nbconvert_exporter": "python",
   "pygments_lexer": "ipython3",
   "version": "3.6.7"
  }
 },
 "nbformat": 4,
 "nbformat_minor": 2
}
