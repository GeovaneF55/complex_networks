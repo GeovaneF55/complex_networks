{
 "cells": [
  {
   "cell_type": "markdown",
   "metadata": {},
   "source": [
    "# Importações"
   ]
  },
  {
   "cell_type": "code",
   "execution_count": 1,
   "metadata": {},
   "outputs": [],
   "source": [
    "import community\n",
    "import csv\n",
    "import os\n",
    "import matplotlib.pyplot as plt\n",
    "import networkx as nx\n",
    "import numpy as np\n",
    "import statistics\n",
    "import sys\n",
    "\n",
    "from operator import itemgetter"
   ]
  },
  {
   "cell_type": "markdown",
   "metadata": {},
   "source": [
    "# Caminhos dos dados da rede"
   ]
  },
  {
   "cell_type": "code",
   "execution_count": 2,
   "metadata": {},
   "outputs": [],
   "source": [
    "module_path = os.path.abspath(os.path.join('..'))\n",
    "src_path = '{}/src'.format(module_path)\n",
    "if module_path not in sys.path:\n",
    "    sys.path.append(src_path)\n",
    "\n",
    "c_elegans_undir_names_path = '{}/data/c_elegans_undir_names.txt'.format(module_path)\n",
    "c_elegans_undir_path = '{}/data/c_elegans_undir.net'.format(module_path)"
   ]
  },
  {
   "cell_type": "markdown",
   "metadata": {},
   "source": [
    "# Leitura do arquivo c_elegans_undir_names.txt"
   ]
  },
  {
   "cell_type": "code",
   "execution_count": 3,
   "metadata": {},
   "outputs": [],
   "source": [
    "with open(c_elegans_undir_names_path, 'r') as celenamenet:\n",
    "    nodereader = celenamenet.read()\n",
    "    nodes = { n.split(' ')[0]: n.split(' ')[1] for n in nodereader.split('\\n')[:-1] }\n",
    "    node_names = [ nodes[n] for n in nodes ]\n",
    "    #print(nodes)"
   ]
  },
  {
   "cell_type": "markdown",
   "metadata": {},
   "source": [
    "# Leitura do arquivo c_elegans_undir.net"
   ]
  },
  {
   "cell_type": "code",
   "execution_count": 4,
   "metadata": {},
   "outputs": [],
   "source": [
    "with open(c_elegans_undir_path, 'r') as celenet:\n",
    "    edgereader = celenet.read()\n",
    "    edges = [tuple([nodes[v] for v in n.split(' ')]) for n in edgereader.split('\\n')[:-1]]\n",
    "    #print(edges)"
   ]
  },
  {
   "cell_type": "markdown",
   "metadata": {},
   "source": [
    "# Grafo ( Rede Complexa ) "
   ]
  },
  {
   "cell_type": "code",
   "execution_count": 5,
   "metadata": {},
   "outputs": [
    {
     "name": "stdout",
     "output_type": "stream",
     "text": [
      "Name: \n",
      "Type: Graph\n",
      "Number of nodes: 279\n",
      "Number of edges: 2287\n",
      "Average degree:  16.3943\n",
      "Densidade da rede:  0.05897217709703205\n",
      "Grafo é conexo?  True\n"
     ]
    }
   ],
   "source": [
    "G = nx.Graph() # inicializando o grafo                                                   \n",
    "G.add_nodes_from(node_names) # cria os nós                           \n",
    "G.add_edges_from(edges) # adiciona as arestas no grafo  \n",
    "print(nx.info(G)) # imprime informações do grafo (resumo)\n",
    "\n",
    "density = nx.density(G)\n",
    "print('Densidade da rede: ', density)\n",
    "print('Grafo é conexo? ', nx.is_connected(G))"
   ]
  },
  {
   "cell_type": "markdown",
   "metadata": {},
   "source": [
    "# Componentes da rede"
   ]
  },
  {
   "cell_type": "code",
   "execution_count": 6,
   "metadata": {},
   "outputs": [
    {
     "name": "stdout",
     "output_type": "stream",
     "text": [
      "Componentes:  <generator object connected_components at 0x7f5489d28228>\n",
      "Maior componente:  {'ASGR', 'IL1VL', 'SMDDR', 'PDEL', 'DB01', 'PVWL', 'PLNL', 'AVHL', 'DA09', 'AVER', 'AUAR', 'AS11', 'ASER', 'ASJL', 'DVC', 'SABVR', 'RMDDR', 'PVNL', 'SMBDL', 'PVQR', 'IL1L', 'ADAL', 'ASEL', 'AIZL', 'RIGL', 'DA01', 'AVAR', 'VB10', 'SDQL', 'AIMR', 'PVNR', 'ASIL', 'AVL', 'PVQL', 'DVB', 'PVPR', 'VC05', 'VA05', 'RMFL', 'HSNR', 'VB11', 'RIFL', 'PDA', 'ADAR', 'DD02', 'DD03', 'URXR', 'OLQVR', 'VB01', 'SMDVL', 'LUAR', 'AS01', 'VB02', 'DA03', 'AS03', 'RMHL', 'RMED', 'ASJR', 'AUAL', 'VD13', 'OLQDR', 'AS06', 'RMER', 'IL2L', 'ASHR', 'SIBDR', 'PHAL', 'VA10', 'VA09', 'VD03', 'IL2DL', 'PVT', 'AVAL', 'PVPL', 'RICL', 'AWAL', 'AWCL', 'VB04', 'AIBL', 'URAVL', 'BDUR', 'PLML', 'VB09', 'AS10', 'AS09', 'AWBR', 'ALA', 'RIGR', 'PDB', 'VA07', 'IL1VR', 'AS05', 'AVM', 'OLQVL', 'PLNR', 'AVDL', 'RMEL', 'CEPVL', 'SIBDL', 'AINR', 'RMFR', 'SAAVL', 'DB06', 'RMGL', 'SMBVL', 'PDER', 'RIH', 'IL2VL', 'AS04', 'VD10', 'ADEL', 'RIPL', 'IL2VR', 'VB05', 'ASIR', 'RMGR', 'ADFL', 'VA04', 'VA01', 'SAAVR', 'ADER', 'SMDDL', 'VD12', 'URYDL', 'URAVR', 'LUAL', 'AVDR', 'RID', 'RMDVR', 'ASGL', 'RMEV', 'AWBL', 'PVR', 'AVFL', 'AIBR', 'ASHL', 'AIAR', 'RIMR', 'CEPDL', 'BAGR', 'FLPR', 'PVWR', 'DA07', 'AFDL', 'VA11', 'CEPDR', 'IL1DL', 'DA06', 'VD07', 'AVFR', 'URADR', 'AIYL', 'VA12', 'PQR', 'URXL', 'ADLL', 'VD01', 'IL1R', 'DA05', 'DB02', 'URYVR', 'VC01', 'VA02', 'RMDL', 'DB07', 'VD09', 'RIR', 'AVBL', 'DA02', 'URBL', 'IL2DR', 'AVEL', 'PLMR', 'PVDR', 'RMDDL', 'CEPVR', 'ALNL', 'VD02', 'DB05', 'AIML', 'AVJL', 'DB03', 'DD01', 'RMDR', 'AIZR', 'SABVL', 'OLQDL', 'VD05', 'SIADL', 'SMBVR', 'AVJR', 'ALNR', 'AIAL', 'RIAL', 'AVHR', 'VB07', 'AVKR', 'PHAR', 'VD04', 'SAADL', 'IL1DR', 'AFDR', 'URADL', 'PVCL', 'VC03', 'URBR', 'SIBVL', 'VB06', 'VD11', 'AVBR', 'VB03', 'DA08', 'RMHR', 'FLPL', 'SIAVR', 'ADFR', 'SIBVR', 'VA06', 'SIADR', 'VD08', 'DD06', 'PHBR', 'ASKL', 'AWAR', 'AS07', 'PHCL', 'ASKR', 'DB04', 'RIAR', 'IL2R', 'SMDVR', 'SIAVL', 'VB08', 'RIML', 'DVA', 'RIS', 'PVCR', 'VC02', 'AWCR', 'SDQR', 'AS08', 'SAADR', 'OLLL', 'AVKL', 'AINL', 'AS02', 'BDUL', 'RICR', 'URYDR', 'PHCR', 'RIVR', 'URYVL', 'VA08', 'SABD', 'RIPR', 'RMDVL', 'PHBL', 'ALMR', 'AVG', 'RIFR', 'ADLR', 'OLLR', 'ALML', 'AIYR', 'VA03', 'VD06', 'AQR', 'DD04', 'SMBDR', 'RIBL', 'HSNL', 'RIBR', 'PVM', 'DA04', 'VC04', 'RIVL', 'DD05', 'PVDL', 'BAGL'}\n",
      "Diâmetro do maior componente:  5\n"
     ]
    }
   ],
   "source": [
    "components = nx.connected_components(G)\n",
    "print('Componentes: ', components)\n",
    "\n",
    "largest_component = max(components, key=len)\n",
    "print('Maior componente: ', largest_component)\n",
    "\n",
    "subgraph = G.subgraph(largest_component)\n",
    "diameter = nx.diameter(subgraph)\n",
    "print('Diâmetro do maior componente: ', diameter)"
   ]
  },
  {
   "cell_type": "markdown",
   "metadata": {},
   "source": [
    "## a) Forneça uma breve explicação da rede analisada."
   ]
  },
  {
   "cell_type": "markdown",
   "metadata": {},
   "source": [
    "TODO (explicação da rede analisada)"
   ]
  },
  {
   "cell_type": "markdown",
   "metadata": {},
   "source": [
    "## b) Calcule e plote a distribuição do grau dos nodos desse grafo. Discuta se a curva parece uma Power Law. Faça uma regressão linear na tentativa de obter o coeficiente alfa. Calcule também o grau médio do grafo."
   ]
  },
  {
   "cell_type": "code",
   "execution_count": 7,
   "metadata": {},
   "outputs": [
    {
     "data": {
      "image/png": "[encoded data removed]",
      "text/plain": [
       "<Figure size 432x288 with 1 Axes>"
      ]
     },
     "metadata": {
      "needs_background": "light"
     },
     "output_type": "display_data"
    },
    {
     "data": {
      "text/plain": [
       "<Figure size 432x288 with 0 Axes>"
      ]
     },
     "metadata": {},
     "output_type": "display_data"
    }
   ],
   "source": [
    "degree_dict = dict(G.degree(G.nodes()))\n",
    "\n",
    "degrees = list()\n",
    "for key in degree_dict.keys():\n",
    "    degrees.append(degree_dict[key])\n",
    "\n",
    "plt.hist(degrees, bins=50, density=1,\n",
    "cumulative=True, label='CDF DATA',\n",
    "histtype='step', color='purple')\n",
    "plt.ylabel('# of nodes')\n",
    "plt.xlabel('degree')\n",
    "plt.show()\n",
    "plt.savefig('degree_cdf.png')"
   ]
  },
  {
   "cell_type": "markdown",
   "metadata": {},
   "source": [
    "TODO (Discussão se a curva parece uma Power Law)"
   ]
  },
  {
   "cell_type": "code",
   "execution_count": 8,
   "metadata": {},
   "outputs": [],
   "source": [
    "# TODO Regressão Linear para tentar obter o coeficiente alfa"
   ]
  },
  {
   "cell_type": "code",
   "execution_count": 9,
   "metadata": {},
   "outputs": [
    {
     "name": "stdout",
     "output_type": "stream",
     "text": [
      "Grau médio do grafo:  13\n"
     ]
    }
   ],
   "source": [
    "degree_median = statistics.median(degrees)\n",
    "print('Grau médio do grafo: ', degree_median)"
   ]
  },
  {
   "cell_type": "markdown",
   "metadata": {},
   "source": [
    "## c) Calcule o número de componentes do grafo."
   ]
  },
  {
   "cell_type": "code",
   "execution_count": 10,
   "metadata": {},
   "outputs": [
    {
     "name": "stdout",
     "output_type": "stream",
     "text": [
      "Número de componentes no grafo:  1\n"
     ]
    }
   ],
   "source": [
    "components_num = nx.number_connected_components(G)\n",
    "print('Número de componentes no grafo: ', components_num)"
   ]
  },
  {
   "cell_type": "markdown",
   "metadata": {},
   "source": [
    "## d) Calcule o coeficiente de clusterização de cada nodo e plote a distribuição. Calcule também o coeficiente de clusterização global do grafo."
   ]
  },
  {
   "cell_type": "code",
   "execution_count": 11,
   "metadata": {},
   "outputs": [
    {
     "data": {
      "image/png": "[encoded data removed]",
      "text/plain": [
       "<Figure size 432x288 with 1 Axes>"
      ]
     },
     "metadata": {
      "needs_background": "light"
     },
     "output_type": "display_data"
    },
    {
     "data": {
      "text/plain": [
       "<Figure size 432x288 with 0 Axes>"
      ]
     },
     "metadata": {},
     "output_type": "display_data"
    }
   ],
   "source": [
    "clust_coef_nodes = nx.clustering(G)\n",
    "\n",
    "clust_coefs = list()\n",
    "for key in clust_coef_nodes.keys():\n",
    "    clust_coefs.append(clust_coef_nodes[key])\n",
    "\n",
    "plt.hist(clust_coefs, bins=50, density=1,\n",
    "cumulative=False, label='CDF DATA',\n",
    "histtype='step', color='purple')\n",
    "plt.ylabel('# of nodes')\n",
    "plt.xlabel('clustering coefficient')\n",
    "plt.show()\n",
    "plt.savefig('clustering_coefficient_cdf.png')"
   ]
  },
  {
   "cell_type": "code",
   "execution_count": 12,
   "metadata": {},
   "outputs": [
    {
     "name": "stdout",
     "output_type": "stream",
     "text": [
      "Coeficiente de clusterização global do grafo:  0.3371339990890197\n"
     ]
    }
   ],
   "source": [
    "clust_coef_graph = nx.average_clustering(G)\n",
    "print('Coeficiente de clusterização global do grafo: ', clust_coef_graph)"
   ]
  },
  {
   "cell_type": "markdown",
   "metadata": {},
   "source": [
    "## e) Plote a distribuição do tamanho dos componentes do grafo. Se o grafo possuir apenas um componente não é preciso plotar."
   ]
  },
  {
   "cell_type": "markdown",
   "metadata": {},
   "source": [
    "Não é preciso plotar pois há somente um componente"
   ]
  },
  {
   "cell_type": "markdown",
   "metadata": {},
   "source": [
    "## f) Calcule o overlap da vizinhança para cada par de nodo e plote a distribuição dos valores encontrados."
   ]
  },
  {
   "cell_type": "code",
   "execution_count": 13,
   "metadata": {},
   "outputs": [],
   "source": [
    "# TODO questão E"
   ]
  },
  {
   "cell_type": "markdown",
   "metadata": {},
   "source": [
    "## g) Calcule a distância média e a distribuição das distâncias de todos os nodos da rede."
   ]
  },
  {
   "cell_type": "code",
   "execution_count": 14,
   "metadata": {},
   "outputs": [],
   "source": [
    "# TODO questão G"
   ]
  },
  {
   "cell_type": "markdown",
   "metadata": {},
   "source": [
    "## h) Calcule o betweenness dos nodos e das arestas desse grafo e plote a distribuição. O que acontece com o grafo à medida que você retira os nodos e arestas com maior betweenness?"
   ]
  },
  {
   "cell_type": "code",
   "execution_count": 15,
   "metadata": {},
   "outputs": [
    {
     "data": {
      "image/png": "[encoded data removed]",
      "text/plain": [
       "<Figure size 432x288 with 1 Axes>"
      ]
     },
     "metadata": {
      "needs_background": "light"
     },
     "output_type": "display_data"
    },
    {
     "data": {
      "text/plain": [
       "<Figure size 432x288 with 0 Axes>"
      ]
     },
     "metadata": {},
     "output_type": "display_data"
    }
   ],
   "source": [
    "node_betweenness = nx.betweenness_centrality(G)\n",
    "\n",
    "nb_list = list()\n",
    "for key in node_betweenness.keys():\n",
    "    nb_list.append(node_betweenness[key])\n",
    "\n",
    "plt.hist(nb_list, bins=50, density=1,\n",
    "cumulative=False, label='CDF DATA',\n",
    "histtype='step', color='purple')\n",
    "plt.ylabel('# of nodes')\n",
    "plt.xlabel('node betweenness')\n",
    "plt.show()\n",
    "plt.savefig('node_betweenness_cdf.png')"
   ]
  },
  {
   "cell_type": "code",
   "execution_count": 16,
   "metadata": {},
   "outputs": [
    {
     "data": {
      "image/png": "[encoded data removed]",
      "text/plain": [
       "<Figure size 432x288 with 1 Axes>"
      ]
     },
     "metadata": {
      "needs_background": "light"
     },
     "output_type": "display_data"
    },
    {
     "data": {
      "text/plain": [
       "<Figure size 432x288 with 0 Axes>"
      ]
     },
     "metadata": {},
     "output_type": "display_data"
    }
   ],
   "source": [
    "edge_betweenness = nx.edge_betweenness_centrality(G)\n",
    "\n",
    "eb_list = list()\n",
    "for key in edge_betweenness.keys():\n",
    "    eb_list.append(edge_betweenness[key])\n",
    "    \n",
    "plt.hist(eb_list, bins=50, density=1,\n",
    "cumulative=False, label='CDF DATA',\n",
    "histtype='step', color='purple')\n",
    "plt.ylabel('# of nodes')\n",
    "plt.xlabel('edge betweenness')\n",
    "plt.show()\n",
    "plt.savefig('edge_betweenness_cdf.png')"
   ]
  },
  {
   "cell_type": "markdown",
   "metadata": {},
   "source": [
    "TODO (Explicação sobre o que acontece com o grafo à medida que se retira os nodos e arestas com maior betweenness)"
   ]
  },
  {
   "cell_type": "markdown",
   "metadata": {},
   "source": [
    "## i) Implemente uma abordagem para encontrar arestas com grandes chances de serem pontes. Implemente o conceito de bridge span e escolha um valor de bridge span interessante para o seu grafo."
   ]
  },
  {
   "cell_type": "code",
   "execution_count": 17,
   "metadata": {},
   "outputs": [],
   "source": [
    "# TODO questão I"
   ]
  },
  {
   "cell_type": "markdown",
   "metadata": {},
   "source": [
    "## j) Calcule a assortatividade do grafo. Plote o gráfico da assortatividade além de apresentar o coeficiente de Pearson."
   ]
  },
  {
   "cell_type": "code",
   "execution_count": 18,
   "metadata": {},
   "outputs": [
    {
     "name": "stdout",
     "output_type": "stream",
     "text": [
      "Assortatividade da rede:  -0.09265380743986654\n"
     ]
    }
   ],
   "source": [
    "assortativity = nx.degree_assortativity_coefficient(G)\n",
    "print('Assortatividade da rede: ', assortativity)"
   ]
  },
  {
   "cell_type": "code",
   "execution_count": 19,
   "metadata": {},
   "outputs": [
    {
     "data": {
      "image/png": "[encoded data removed]",
      "text/plain": [
       "<Figure size 432x288 with 1 Axes>"
      ]
     },
     "metadata": {
      "needs_background": "light"
     },
     "output_type": "display_data"
    },
    {
     "data": {
      "text/plain": [
       "<Figure size 432x288 with 0 Axes>"
      ]
     },
     "metadata": {},
     "output_type": "display_data"
    }
   ],
   "source": [
    "avg_neighbor_degree = nx.average_neighbor_degree(G)\n",
    "\n",
    "avg_nd_list = list()\n",
    "for key in avg_neighbor_degree.keys():\n",
    "    avg_nd_list.append(avg_neighbor_degree[key])\n",
    "    \n",
    "plt.hist(avg_nd_list, bins=50, density=1,\n",
    "cumulative=False, label='CDF DATA',\n",
    "histtype='step', color='purple')\n",
    "plt.ylabel('# of nodes')\n",
    "plt.xlabel('average neighbor degree')\n",
    "plt.show()\n",
    "plt.savefig('assortativity_cdf.png')"
   ]
  },
  {
   "cell_type": "code",
   "execution_count": 20,
   "metadata": {},
   "outputs": [
    {
     "name": "stdout",
     "output_type": "stream",
     "text": [
      "Coeficiente de Pearson:  -0.09265380743986673\n"
     ]
    }
   ],
   "source": [
    "pearson_coefficient = nx.degree_pearson_correlation_coefficient(G)\n",
    "print('Coeficiente de Pearson: ', pearson_coefficient)"
   ]
  },
  {
   "cell_type": "markdown",
   "metadata": {},
   "source": [
    "## Plote uma visualização do grafo ou de parte, ex. um componente, do grafo caso ele seja muito grande. Para essa tarefa você pode utilizar qualquer ferramenta. Uma sugestão é usar o gephi (gephi.org/)"
   ]
  },
  {
   "cell_type": "code",
   "execution_count": 21,
   "metadata": {},
   "outputs": [],
   "source": [
    "# TODO plotar uma visualização do grafo"
   ]
  }
 ],
 "metadata": {
  "kernelspec": {
   "display_name": "Python 3",
   "language": "python",
   "name": "python3"
  },
  "language_info": {
   "codemirror_mode": {
    "name": "ipython",
    "version": 3
   },
   "file_extension": ".py",
   "mimetype": "text/x-python",
   "name": "python",
   "nbconvert_exporter": "python",
   "pygments_lexer": "ipython3",
   "version": "3.7.1"
  }
 },
 "nbformat": 4,
 "nbformat_minor": 2
}
